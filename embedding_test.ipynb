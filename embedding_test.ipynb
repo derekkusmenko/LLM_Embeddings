{
 "cells": [
  {
   "cell_type": "markdown",
   "id": "5cb204cd",
   "metadata": {},
   "source": [
    "## Load Model and Extract Embeddings Layer"
   ]
  },
  {
   "cell_type": "markdown",
   "id": "78fecf34",
   "metadata": {},
   "source": [
    "Code taken from https://huggingface.co/spaces/hesamation/primer-llm-embedding?section=embeddings_in_action_%28deepseek-r1-distill-qwen-1.5b%29"
   ]
  },
  {
   "cell_type": "code",
   "execution_count": 103,
   "id": "f089265f",
   "metadata": {},
   "outputs": [
    {
     "name": "stdout",
     "output_type": "stream",
     "text": [
      "Extracted Embeddings Layer for deepseek-ai/DeepSeek-R1-Distill-Qwen-1.5B: Embedding(151936, 1536)\n"
     ]
    }
   ],
   "source": [
    "import torch\n",
    "from transformers import AutoTokenizer, AutoModel\n",
    "\n",
    "tokenizer_name = \"deepseek-ai/DeepSeek-R1-Distill-Qwen-1.5B\"\n",
    "model_name = tokenizer_name\n",
    "\n",
    "# Load the tokenizer\n",
    "tokenizer = AutoTokenizer.from_pretrained(tokenizer_name)\n",
    "tokenizer.add_special_tokens({'pad_token': '[PAD]'})\n",
    "\n",
    "# Load the pre-trained model\n",
    "model = AutoModel.from_pretrained(model_name)\n",
    "\n",
    "# Extract the embeddings layer\n",
    "embeddings = model.get_input_embeddings()\n",
    "\n",
    "# Print out the embeddings\n",
    "print(f\"Extracted Embeddings Layer for {model_name}: {embeddings}\")\n",
    "\n",
    "# Save the embeddings layer\n",
    "torch.save(embeddings.state_dict(), \"embeddings_qwen.pth\")"
   ]
  },
  {
   "cell_type": "code",
   "execution_count": 104,
   "id": "5f3b3b11",
   "metadata": {},
   "outputs": [
    {
     "data": {
      "text/plain": [
       "EmbeddingModel(\n",
       "  (embedding): Embedding(151936, 1536)\n",
       ")"
      ]
     },
     "execution_count": 104,
     "metadata": {},
     "output_type": "execute_result"
    }
   ],
   "source": [
    "import torch.nn as nn\n",
    "\n",
    "class EmbeddingModel(nn.Module):\n",
    "    def __init__(self, vocab_size, embedding_dim):\n",
    "        super(EmbeddingModel, self).__init__()\n",
    "        self.embedding = nn.Embedding(num_embeddings=vocab_size, embedding_dim=embedding_dim)\n",
    "\n",
    "    def forward(self, input_ids):\n",
    "        return self.embedding(input_ids)\n",
    "\n",
    "\n",
    "vocab_size = 151936\n",
    "dimensions = 1536\n",
    "embeddings_filename = r\"embeddings_qwen.pth\"\n",
    "tokenizer_name = \"deepseek-ai/DeepSeek-R1-Distill-Qwen-1.5B\"\n",
    "tokenizer = AutoTokenizer.from_pretrained(tokenizer_name)\n",
    "\n",
    "# Initialize the custom embedding model\n",
    "model = EmbeddingModel(vocab_size, dimensions)\n",
    "\n",
    "# Load the saved embeddings from the file\n",
    "saved_embeddings = torch.load(embeddings_filename)\n",
    "\n",
    "# Ensure the 'weight' key exists in the saved embeddings dictionary\n",
    "if 'weight' not in saved_embeddings:\n",
    "    raise KeyError(\"The saved embeddings file does not contain 'weight' key.\")\n",
    "\n",
    "embeddings_tensor = saved_embeddings['weight']\n",
    "\n",
    "# Check if the dimensions match\n",
    "if embeddings_tensor.size() != (vocab_size, dimensions):\n",
    "    raise ValueError(f\"The dimensions of the loaded embeddings do not match the model's expected dimensions ({vocab_size}, {dimensions}).\")\n",
    "\n",
    "# Assign the extracted embeddings tensor to the model's embedding layer\n",
    "model.embedding.weight.data = embeddings_tensor\n",
    "\n",
    "# put the model in eval mode\n",
    "model.eval()"
   ]
  },
  {
   "cell_type": "markdown",
   "id": "a2be486b",
   "metadata": {},
   "source": [
    "### Make embedding retrieval function using saved model"
   ]
  },
  {
   "cell_type": "code",
   "execution_count": 105,
   "id": "a37ced1e",
   "metadata": {},
   "outputs": [],
   "source": [
    "def embedding_retrieval(prompt:str):\n",
    "    # tokenize the input text\n",
    "    tokens = tokenizer(prompt, return_tensors=\"pt\")\n",
    "    input_ids = tokens['input_ids']\n",
    "\n",
    "    # make a forward pass\n",
    "    outputs = model(input_ids)\n",
    "\n",
    "    # directly use the embeddings layer to get embeddings for the input_ids\n",
    "    embeddings = outputs\n",
    "\n",
    "    # mean pooling to combine token vectors into one vector per prompt\n",
    "\n",
    "    # return pooled embeddings as numpy array\n",
    "    return embeddings.mean(dim =1).detach().numpy()\n",
    "  \n",
    "\n",
    "t1 = embedding_retrieval(\"You are an auto insurance underwriter. A policyholder is a 23 year old male. Their occupation is an actuary and they drive a vehicle that is 10 years old. What is the risk level for this policyholder?\")"
   ]
  },
  {
   "cell_type": "code",
   "execution_count": 106,
   "id": "9a0d8497",
   "metadata": {},
   "outputs": [
    {
     "data": {
      "text/plain": [
       "(1, 1536)"
      ]
     },
     "execution_count": 106,
     "metadata": {},
     "output_type": "execute_result"
    }
   ],
   "source": [
    "import tensorflow as tf\n",
    "t1.shape\n",
    "#shape of this is one 1536-dim vector"
   ]
  },
  {
   "cell_type": "code",
   "execution_count": 107,
   "id": "8ed53f53",
   "metadata": {},
   "outputs": [],
   "source": [
    "import pandas as pd\n",
    "from sklearn.preprocessing import StandardScaler\n",
    "from sklearn.decomposition import PCA\n",
    "import matplotlib.pyplot as plt\n",
    "import numpy as np"
   ]
  },
  {
   "cell_type": "markdown",
   "id": "ea4ca53c",
   "metadata": {},
   "source": [
    "## Import Data"
   ]
  },
  {
   "cell_type": "code",
   "execution_count": 108,
   "id": "38fca986",
   "metadata": {},
   "outputs": [],
   "source": [
    "import seaborn as sns\n",
    "\n",
    "df = pd.read_csv(\"freMTPL2freq.csv\")"
   ]
  },
  {
   "cell_type": "code",
   "execution_count": 109,
   "id": "4f8fe6d3",
   "metadata": {},
   "outputs": [],
   "source": [
    "# Create frequency and claim index columns\n",
    "df[\"Frequency\"] = df[\"ClaimNb\"]/df[\"Exposure\"]\n",
    "df[\"ClaimInd\"] = df[\"ClaimNb\"] >= 1"
   ]
  },
  {
   "cell_type": "code",
   "execution_count": 110,
   "id": "e1547599",
   "metadata": {},
   "outputs": [
    {
     "data": {
      "application/vnd.microsoft.datawrangler.viewer.v0+json": {
       "columns": [
        {
         "name": "index",
         "rawType": "int64",
         "type": "integer"
        },
        {
         "name": "IDpol",
         "rawType": "float64",
         "type": "float"
        },
        {
         "name": "ClaimNb",
         "rawType": "int64",
         "type": "integer"
        },
        {
         "name": "Exposure",
         "rawType": "float64",
         "type": "float"
        },
        {
         "name": "Area",
         "rawType": "object",
         "type": "string"
        },
        {
         "name": "VehPower",
         "rawType": "int64",
         "type": "integer"
        },
        {
         "name": "VehAge",
         "rawType": "int64",
         "type": "integer"
        },
        {
         "name": "DrivAge",
         "rawType": "int64",
         "type": "integer"
        },
        {
         "name": "BonusMalus",
         "rawType": "int64",
         "type": "integer"
        },
        {
         "name": "VehBrand",
         "rawType": "object",
         "type": "string"
        },
        {
         "name": "VehGas",
         "rawType": "object",
         "type": "string"
        },
        {
         "name": "Density",
         "rawType": "int64",
         "type": "integer"
        },
        {
         "name": "Region",
         "rawType": "object",
         "type": "string"
        },
        {
         "name": "Frequency",
         "rawType": "float64",
         "type": "float"
        },
        {
         "name": "ClaimInd",
         "rawType": "bool",
         "type": "boolean"
        }
       ],
       "ref": "7ea6f726-594e-411c-a98e-5babfdaf9567",
       "rows": [
        [
         "0",
         "1.0",
         "1",
         "0.1",
         "D",
         "5",
         "0",
         "55",
         "50",
         "B12",
         "Regular",
         "1217",
         "R82",
         "10.0",
         "True"
        ],
        [
         "1",
         "3.0",
         "1",
         "0.77",
         "D",
         "5",
         "0",
         "55",
         "50",
         "B12",
         "Regular",
         "1217",
         "R82",
         "1.2987012987012987",
         "True"
        ],
        [
         "2",
         "5.0",
         "1",
         "0.75",
         "B",
         "6",
         "2",
         "52",
         "50",
         "B12",
         "Diesel",
         "54",
         "R22",
         "1.3333333333333333",
         "True"
        ],
        [
         "3",
         "10.0",
         "1",
         "0.09",
         "B",
         "7",
         "0",
         "46",
         "50",
         "B12",
         "Diesel",
         "76",
         "R72",
         "11.11111111111111",
         "True"
        ],
        [
         "4",
         "11.0",
         "1",
         "0.84",
         "B",
         "7",
         "0",
         "46",
         "50",
         "B12",
         "Diesel",
         "76",
         "R72",
         "1.1904761904761905",
         "True"
        ],
        [
         "5",
         "13.0",
         "1",
         "0.52",
         "E",
         "6",
         "2",
         "38",
         "50",
         "B12",
         "Regular",
         "3003",
         "R31",
         "1.923076923076923",
         "True"
        ],
        [
         "6",
         "15.0",
         "1",
         "0.45",
         "E",
         "6",
         "2",
         "38",
         "50",
         "B12",
         "Regular",
         "3003",
         "R31",
         "2.2222222222222223",
         "True"
        ],
        [
         "7",
         "17.0",
         "1",
         "0.27",
         "C",
         "7",
         "0",
         "33",
         "68",
         "B12",
         "Diesel",
         "137",
         "R91",
         "3.7037037037037033",
         "True"
        ],
        [
         "8",
         "18.0",
         "1",
         "0.71",
         "C",
         "7",
         "0",
         "33",
         "68",
         "B12",
         "Diesel",
         "137",
         "R91",
         "1.4084507042253522",
         "True"
        ],
        [
         "9",
         "21.0",
         "1",
         "0.15",
         "B",
         "7",
         "0",
         "41",
         "50",
         "B12",
         "Diesel",
         "60",
         "R52",
         "6.666666666666667",
         "True"
        ],
        [
         "10",
         "25.0",
         "1",
         "0.75",
         "B",
         "7",
         "0",
         "41",
         "50",
         "B12",
         "Diesel",
         "60",
         "R52",
         "1.3333333333333333",
         "True"
        ],
        [
         "11",
         "27.0",
         "1",
         "0.87",
         "C",
         "7",
         "0",
         "56",
         "50",
         "B12",
         "Diesel",
         "173",
         "R93",
         "1.1494252873563218",
         "True"
        ],
        [
         "12",
         "30.0",
         "1",
         "0.81",
         "D",
         "4",
         "1",
         "27",
         "90",
         "B12",
         "Regular",
         "695",
         "R72",
         "1.2345679012345678",
         "True"
        ],
        [
         "13",
         "32.0",
         "1",
         "0.05",
         "D",
         "4",
         "0",
         "27",
         "90",
         "B12",
         "Regular",
         "695",
         "R72",
         "20.0",
         "True"
        ],
        [
         "14",
         "35.0",
         "1",
         "0.76",
         "E",
         "4",
         "9",
         "23",
         "100",
         "B6",
         "Regular",
         "7887",
         "R31",
         "1.3157894736842106",
         "True"
        ],
        [
         "15",
         "36.0",
         "1",
         "0.34",
         "F",
         "9",
         "0",
         "44",
         "76",
         "B12",
         "Regular",
         "27000",
         "R11",
         "2.941176470588235",
         "True"
        ],
        [
         "16",
         "38.0",
         "1",
         "0.1",
         "A",
         "6",
         "2",
         "32",
         "56",
         "B12",
         "Diesel",
         "23",
         "R24",
         "10.0",
         "True"
        ],
        [
         "17",
         "42.0",
         "1",
         "0.77",
         "A",
         "6",
         "2",
         "32",
         "56",
         "B12",
         "Diesel",
         "23",
         "R24",
         "1.2987012987012987",
         "True"
        ],
        [
         "18",
         "44.0",
         "1",
         "0.74",
         "A",
         "6",
         "2",
         "55",
         "50",
         "B12",
         "Regular",
         "37",
         "R94",
         "1.3513513513513513",
         "True"
        ],
        [
         "19",
         "45.0",
         "1",
         "0.1",
         "A",
         "6",
         "2",
         "55",
         "50",
         "B12",
         "Regular",
         "37",
         "R94",
         "10.0",
         "True"
        ],
        [
         "20",
         "47.0",
         "1",
         "0.03",
         "A",
         "6",
         "2",
         "55",
         "50",
         "B12",
         "Regular",
         "37",
         "R94",
         "33.333333333333336",
         "True"
        ],
        [
         "21",
         "49.0",
         "2",
         "0.81",
         "E",
         "7",
         "0",
         "73",
         "50",
         "B12",
         "Regular",
         "3317",
         "R93",
         "2.4691358024691357",
         "True"
        ],
        [
         "22",
         "50.0",
         "1",
         "0.06",
         "E",
         "7",
         "0",
         "73",
         "50",
         "B12",
         "Regular",
         "3317",
         "R93",
         "16.666666666666668",
         "True"
        ],
        [
         "23",
         "52.0",
         "1",
         "0.1",
         "B",
         "6",
         "8",
         "27",
         "76",
         "B3",
         "Diesel",
         "85",
         "R93",
         "10.0",
         "True"
        ],
        [
         "24",
         "53.0",
         "1",
         "0.55",
         "D",
         "5",
         "0",
         "33",
         "100",
         "B12",
         "Regular",
         "1746",
         "R11",
         "1.8181818181818181",
         "True"
        ],
        [
         "25",
         "54.0",
         "1",
         "0.19",
         "D",
         "5",
         "0",
         "33",
         "100",
         "B12",
         "Regular",
         "1746",
         "R11",
         "5.2631578947368425",
         "True"
        ],
        [
         "26",
         "55.0",
         "1",
         "0.01",
         "D",
         "5",
         "0",
         "33",
         "100",
         "B12",
         "Regular",
         "1746",
         "R11",
         "100.0",
         "True"
        ],
        [
         "27",
         "58.0",
         "1",
         "0.03",
         "C",
         "5",
         "0",
         "59",
         "50",
         "B12",
         "Regular",
         "455",
         "R91",
         "33.333333333333336",
         "True"
        ],
        [
         "28",
         "59.0",
         "1",
         "0.79",
         "C",
         "5",
         "0",
         "59",
         "50",
         "B12",
         "Regular",
         "455",
         "R91",
         "1.2658227848101264",
         "True"
        ],
        [
         "29",
         "60.0",
         "2",
         "0.04",
         "C",
         "5",
         "0",
         "59",
         "50",
         "B12",
         "Regular",
         "455",
         "R91",
         "50.0",
         "True"
        ],
        [
         "30",
         "62.0",
         "1",
         "0.87",
         "D",
         "5",
         "0",
         "54",
         "50",
         "B12",
         "Regular",
         "781",
         "R31",
         "1.1494252873563218",
         "True"
        ],
        [
         "31",
         "65.0",
         "1",
         "0.87",
         "D",
         "15",
         "0",
         "44",
         "71",
         "B12",
         "Diesel",
         "1110",
         "R94",
         "1.1494252873563218",
         "True"
        ],
        [
         "32",
         "67.0",
         "1",
         "0.8",
         "D",
         "5",
         "0",
         "69",
         "52",
         "B12",
         "Regular",
         "1376",
         "R11",
         "1.25",
         "True"
        ],
        [
         "33",
         "68.0",
         "1",
         "0.07",
         "D",
         "5",
         "0",
         "69",
         "52",
         "B12",
         "Regular",
         "1376",
         "R11",
         "14.285714285714285",
         "True"
        ],
        [
         "34",
         "72.0",
         "1",
         "0.39",
         "D",
         "4",
         "0",
         "23",
         "85",
         "B12",
         "Regular",
         "533",
         "R93",
         "2.564102564102564",
         "True"
        ],
        [
         "35",
         "73.0",
         "1",
         "0.47",
         "D",
         "4",
         "0",
         "23",
         "85",
         "B12",
         "Regular",
         "533",
         "R93",
         "2.127659574468085",
         "True"
        ],
        [
         "36",
         "77.0",
         "1",
         "0.69",
         "A",
         "6",
         "0",
         "60",
         "51",
         "B12",
         "Diesel",
         "12",
         "R83",
         "1.4492753623188408",
         "True"
        ],
        [
         "37",
         "78.0",
         "1",
         "0.16",
         "A",
         "6",
         "0",
         "60",
         "51",
         "B12",
         "Diesel",
         "12",
         "R83",
         "6.25",
         "True"
        ],
        [
         "38",
         "80.0",
         "1",
         "0.12",
         "E",
         "9",
         "0",
         "43",
         "50",
         "B12",
         "Regular",
         "7752",
         "R11",
         "8.333333333333334",
         "True"
        ],
        [
         "39",
         "82.0",
         "1",
         "0.76",
         "E",
         "9",
         "0",
         "43",
         "50",
         "B12",
         "Regular",
         "7752",
         "R11",
         "1.3157894736842106",
         "True"
        ],
        [
         "40",
         "84.0",
         "1",
         "0.81",
         "E",
         "8",
         "0",
         "50",
         "54",
         "B12",
         "Regular",
         "3545",
         "R11",
         "1.2345679012345678",
         "True"
        ],
        [
         "41",
         "86.0",
         "1",
         "0.05",
         "E",
         "8",
         "0",
         "50",
         "54",
         "B12",
         "Regular",
         "3545",
         "R11",
         "20.0",
         "True"
        ],
        [
         "42",
         "88.0",
         "1",
         "0.16",
         "E",
         "10",
         "8",
         "30",
         "80",
         "B12",
         "Regular",
         "3661",
         "R11",
         "6.25",
         "True"
        ],
        [
         "43",
         "90.0",
         "1",
         "0.71",
         "E",
         "10",
         "8",
         "30",
         "80",
         "B12",
         "Regular",
         "3661",
         "R11",
         "1.4084507042253522",
         "True"
        ],
        [
         "44",
         "92.0",
         "1",
         "0.41",
         "B",
         "4",
         "0",
         "30",
         "80",
         "B12",
         "Regular",
         "77",
         "R93",
         "2.4390243902439024",
         "True"
        ],
        [
         "45",
         "94.0",
         "1",
         "0.46",
         "B",
         "4",
         "0",
         "30",
         "80",
         "B12",
         "Regular",
         "77",
         "R93",
         "2.1739130434782608",
         "True"
        ],
        [
         "46",
         "96.0",
         "1",
         "0.07",
         "C",
         "5",
         "0",
         "52",
         "50",
         "B12",
         "Regular",
         "162",
         "R93",
         "14.285714285714285",
         "True"
        ],
        [
         "47",
         "97.0",
         "1",
         "0.82",
         "C",
         "5",
         "0",
         "52",
         "50",
         "B12",
         "Regular",
         "162",
         "R93",
         "1.2195121951219512",
         "True"
        ],
        [
         "48",
         "100.0",
         "1",
         "0.87",
         "C",
         "5",
         "0",
         "73",
         "50",
         "B12",
         "Regular",
         "174",
         "R31",
         "1.1494252873563218",
         "True"
        ],
        [
         "49",
         "102.0",
         "2",
         "0.75",
         "C",
         "5",
         "0",
         "33",
         "66",
         "B12",
         "Regular",
         "151",
         "R82",
         "2.6666666666666665",
         "True"
        ]
       ],
       "shape": {
        "columns": 14,
        "rows": 678013
       }
      },
      "text/html": [
       "<div>\n",
       "<style scoped>\n",
       "    .dataframe tbody tr th:only-of-type {\n",
       "        vertical-align: middle;\n",
       "    }\n",
       "\n",
       "    .dataframe tbody tr th {\n",
       "        vertical-align: top;\n",
       "    }\n",
       "\n",
       "    .dataframe thead th {\n",
       "        text-align: right;\n",
       "    }\n",
       "</style>\n",
       "<table border=\"1\" class=\"dataframe\">\n",
       "  <thead>\n",
       "    <tr style=\"text-align: right;\">\n",
       "      <th></th>\n",
       "      <th>IDpol</th>\n",
       "      <th>ClaimNb</th>\n",
       "      <th>Exposure</th>\n",
       "      <th>Area</th>\n",
       "      <th>VehPower</th>\n",
       "      <th>VehAge</th>\n",
       "      <th>DrivAge</th>\n",
       "      <th>BonusMalus</th>\n",
       "      <th>VehBrand</th>\n",
       "      <th>VehGas</th>\n",
       "      <th>Density</th>\n",
       "      <th>Region</th>\n",
       "      <th>Frequency</th>\n",
       "      <th>ClaimInd</th>\n",
       "    </tr>\n",
       "  </thead>\n",
       "  <tbody>\n",
       "    <tr>\n",
       "      <th>0</th>\n",
       "      <td>1.0</td>\n",
       "      <td>1</td>\n",
       "      <td>0.10000</td>\n",
       "      <td>D</td>\n",
       "      <td>5</td>\n",
       "      <td>0</td>\n",
       "      <td>55</td>\n",
       "      <td>50</td>\n",
       "      <td>B12</td>\n",
       "      <td>Regular</td>\n",
       "      <td>1217</td>\n",
       "      <td>R82</td>\n",
       "      <td>10.000000</td>\n",
       "      <td>True</td>\n",
       "    </tr>\n",
       "    <tr>\n",
       "      <th>1</th>\n",
       "      <td>3.0</td>\n",
       "      <td>1</td>\n",
       "      <td>0.77000</td>\n",
       "      <td>D</td>\n",
       "      <td>5</td>\n",
       "      <td>0</td>\n",
       "      <td>55</td>\n",
       "      <td>50</td>\n",
       "      <td>B12</td>\n",
       "      <td>Regular</td>\n",
       "      <td>1217</td>\n",
       "      <td>R82</td>\n",
       "      <td>1.298701</td>\n",
       "      <td>True</td>\n",
       "    </tr>\n",
       "    <tr>\n",
       "      <th>2</th>\n",
       "      <td>5.0</td>\n",
       "      <td>1</td>\n",
       "      <td>0.75000</td>\n",
       "      <td>B</td>\n",
       "      <td>6</td>\n",
       "      <td>2</td>\n",
       "      <td>52</td>\n",
       "      <td>50</td>\n",
       "      <td>B12</td>\n",
       "      <td>Diesel</td>\n",
       "      <td>54</td>\n",
       "      <td>R22</td>\n",
       "      <td>1.333333</td>\n",
       "      <td>True</td>\n",
       "    </tr>\n",
       "    <tr>\n",
       "      <th>3</th>\n",
       "      <td>10.0</td>\n",
       "      <td>1</td>\n",
       "      <td>0.09000</td>\n",
       "      <td>B</td>\n",
       "      <td>7</td>\n",
       "      <td>0</td>\n",
       "      <td>46</td>\n",
       "      <td>50</td>\n",
       "      <td>B12</td>\n",
       "      <td>Diesel</td>\n",
       "      <td>76</td>\n",
       "      <td>R72</td>\n",
       "      <td>11.111111</td>\n",
       "      <td>True</td>\n",
       "    </tr>\n",
       "    <tr>\n",
       "      <th>4</th>\n",
       "      <td>11.0</td>\n",
       "      <td>1</td>\n",
       "      <td>0.84000</td>\n",
       "      <td>B</td>\n",
       "      <td>7</td>\n",
       "      <td>0</td>\n",
       "      <td>46</td>\n",
       "      <td>50</td>\n",
       "      <td>B12</td>\n",
       "      <td>Diesel</td>\n",
       "      <td>76</td>\n",
       "      <td>R72</td>\n",
       "      <td>1.190476</td>\n",
       "      <td>True</td>\n",
       "    </tr>\n",
       "    <tr>\n",
       "      <th>...</th>\n",
       "      <td>...</td>\n",
       "      <td>...</td>\n",
       "      <td>...</td>\n",
       "      <td>...</td>\n",
       "      <td>...</td>\n",
       "      <td>...</td>\n",
       "      <td>...</td>\n",
       "      <td>...</td>\n",
       "      <td>...</td>\n",
       "      <td>...</td>\n",
       "      <td>...</td>\n",
       "      <td>...</td>\n",
       "      <td>...</td>\n",
       "      <td>...</td>\n",
       "    </tr>\n",
       "    <tr>\n",
       "      <th>678008</th>\n",
       "      <td>6114326.0</td>\n",
       "      <td>0</td>\n",
       "      <td>0.00274</td>\n",
       "      <td>E</td>\n",
       "      <td>4</td>\n",
       "      <td>0</td>\n",
       "      <td>54</td>\n",
       "      <td>50</td>\n",
       "      <td>B12</td>\n",
       "      <td>Regular</td>\n",
       "      <td>3317</td>\n",
       "      <td>R93</td>\n",
       "      <td>0.000000</td>\n",
       "      <td>False</td>\n",
       "    </tr>\n",
       "    <tr>\n",
       "      <th>678009</th>\n",
       "      <td>6114327.0</td>\n",
       "      <td>0</td>\n",
       "      <td>0.00274</td>\n",
       "      <td>E</td>\n",
       "      <td>4</td>\n",
       "      <td>0</td>\n",
       "      <td>41</td>\n",
       "      <td>95</td>\n",
       "      <td>B12</td>\n",
       "      <td>Regular</td>\n",
       "      <td>9850</td>\n",
       "      <td>R11</td>\n",
       "      <td>0.000000</td>\n",
       "      <td>False</td>\n",
       "    </tr>\n",
       "    <tr>\n",
       "      <th>678010</th>\n",
       "      <td>6114328.0</td>\n",
       "      <td>0</td>\n",
       "      <td>0.00274</td>\n",
       "      <td>D</td>\n",
       "      <td>6</td>\n",
       "      <td>2</td>\n",
       "      <td>45</td>\n",
       "      <td>50</td>\n",
       "      <td>B12</td>\n",
       "      <td>Diesel</td>\n",
       "      <td>1323</td>\n",
       "      <td>R82</td>\n",
       "      <td>0.000000</td>\n",
       "      <td>False</td>\n",
       "    </tr>\n",
       "    <tr>\n",
       "      <th>678011</th>\n",
       "      <td>6114329.0</td>\n",
       "      <td>0</td>\n",
       "      <td>0.00274</td>\n",
       "      <td>B</td>\n",
       "      <td>4</td>\n",
       "      <td>0</td>\n",
       "      <td>60</td>\n",
       "      <td>50</td>\n",
       "      <td>B12</td>\n",
       "      <td>Regular</td>\n",
       "      <td>95</td>\n",
       "      <td>R26</td>\n",
       "      <td>0.000000</td>\n",
       "      <td>False</td>\n",
       "    </tr>\n",
       "    <tr>\n",
       "      <th>678012</th>\n",
       "      <td>6114330.0</td>\n",
       "      <td>0</td>\n",
       "      <td>0.00274</td>\n",
       "      <td>B</td>\n",
       "      <td>7</td>\n",
       "      <td>6</td>\n",
       "      <td>29</td>\n",
       "      <td>54</td>\n",
       "      <td>B12</td>\n",
       "      <td>Diesel</td>\n",
       "      <td>65</td>\n",
       "      <td>R72</td>\n",
       "      <td>0.000000</td>\n",
       "      <td>False</td>\n",
       "    </tr>\n",
       "  </tbody>\n",
       "</table>\n",
       "<p>678013 rows × 14 columns</p>\n",
       "</div>"
      ],
      "text/plain": [
       "            IDpol  ClaimNb  Exposure Area  VehPower  VehAge  DrivAge  \\\n",
       "0             1.0        1   0.10000    D         5       0       55   \n",
       "1             3.0        1   0.77000    D         5       0       55   \n",
       "2             5.0        1   0.75000    B         6       2       52   \n",
       "3            10.0        1   0.09000    B         7       0       46   \n",
       "4            11.0        1   0.84000    B         7       0       46   \n",
       "...           ...      ...       ...  ...       ...     ...      ...   \n",
       "678008  6114326.0        0   0.00274    E         4       0       54   \n",
       "678009  6114327.0        0   0.00274    E         4       0       41   \n",
       "678010  6114328.0        0   0.00274    D         6       2       45   \n",
       "678011  6114329.0        0   0.00274    B         4       0       60   \n",
       "678012  6114330.0        0   0.00274    B         7       6       29   \n",
       "\n",
       "        BonusMalus VehBrand   VehGas  Density Region  Frequency  ClaimInd  \n",
       "0               50      B12  Regular     1217    R82  10.000000      True  \n",
       "1               50      B12  Regular     1217    R82   1.298701      True  \n",
       "2               50      B12   Diesel       54    R22   1.333333      True  \n",
       "3               50      B12   Diesel       76    R72  11.111111      True  \n",
       "4               50      B12   Diesel       76    R72   1.190476      True  \n",
       "...            ...      ...      ...      ...    ...        ...       ...  \n",
       "678008          50      B12  Regular     3317    R93   0.000000     False  \n",
       "678009          95      B12  Regular     9850    R11   0.000000     False  \n",
       "678010          50      B12   Diesel     1323    R82   0.000000     False  \n",
       "678011          50      B12  Regular       95    R26   0.000000     False  \n",
       "678012          54      B12   Diesel       65    R72   0.000000     False  \n",
       "\n",
       "[678013 rows x 14 columns]"
      ]
     },
     "execution_count": 110,
     "metadata": {},
     "output_type": "execute_result"
    }
   ],
   "source": [
    "df"
   ]
  },
  {
   "cell_type": "markdown",
   "id": "aa766723",
   "metadata": {},
   "source": [
    "### Split data and work with small subset for computational speed"
   ]
  },
  {
   "cell_type": "code",
   "execution_count": 111,
   "id": "546fdd9d",
   "metadata": {},
   "outputs": [],
   "source": [
    "from sklearn.model_selection import train_test_split\n",
    "X_train, X_test, y_train, y_test = train_test_split(df.drop([\"Frequency\"], axis = 1), df[\"Frequency\"], stratify= df[\"ClaimInd\"], test_size=0.2, random_state=42)"
   ]
  },
  {
   "cell_type": "code",
   "execution_count": 112,
   "id": "1cb2ac7a",
   "metadata": {},
   "outputs": [
    {
     "data": {
      "application/vnd.microsoft.datawrangler.viewer.v0+json": {
       "columns": [
        {
         "name": "index",
         "rawType": "int64",
         "type": "integer"
        },
        {
         "name": "IDpol",
         "rawType": "float64",
         "type": "float"
        },
        {
         "name": "ClaimNb",
         "rawType": "int64",
         "type": "integer"
        },
        {
         "name": "Exposure",
         "rawType": "float64",
         "type": "float"
        },
        {
         "name": "Area",
         "rawType": "object",
         "type": "string"
        },
        {
         "name": "VehPower",
         "rawType": "int64",
         "type": "integer"
        },
        {
         "name": "VehAge",
         "rawType": "int64",
         "type": "integer"
        },
        {
         "name": "DrivAge",
         "rawType": "int64",
         "type": "integer"
        },
        {
         "name": "BonusMalus",
         "rawType": "int64",
         "type": "integer"
        },
        {
         "name": "VehBrand",
         "rawType": "object",
         "type": "string"
        },
        {
         "name": "VehGas",
         "rawType": "object",
         "type": "string"
        },
        {
         "name": "Density",
         "rawType": "int64",
         "type": "integer"
        },
        {
         "name": "Region",
         "rawType": "object",
         "type": "string"
        },
        {
         "name": "ClaimInd",
         "rawType": "bool",
         "type": "boolean"
        }
       ],
       "ref": "7749d962-ce44-4ff2-bbc5-4d67e3095b8a",
       "rows": [
        [
         "673753",
         "6110071.0",
         "0",
         "0.74",
         "E",
         "5",
         "0",
         "25",
         "90",
         "B12",
         "Diesel",
         "3564",
         "R11",
         "False"
        ],
        [
         "289208",
         "2190463.0",
         "0",
         "0.53",
         "E",
         "6",
         "10",
         "65",
         "50",
         "B2",
         "Diesel",
         "2278",
         "R91",
         "False"
        ],
        [
         "499438",
         "4025340.0",
         "0",
         "0.06",
         "C",
         "8",
         "1",
         "54",
         "50",
         "B12",
         "Diesel",
         "157",
         "R83",
         "False"
        ],
        [
         "440941",
         "3164830.0",
         "0",
         "1.0",
         "A",
         "6",
         "2",
         "85",
         "50",
         "B1",
         "Regular",
         "11",
         "R24",
         "False"
        ],
        [
         "216301",
         "2038146.0",
         "0",
         "0.02",
         "A",
         "6",
         "3",
         "53",
         "50",
         "B12",
         "Diesel",
         "40",
         "R93",
         "False"
        ],
        [
         "235921",
         "2077148.0",
         "0",
         "1.0",
         "B",
         "6",
         "7",
         "82",
         "58",
         "B1",
         "Diesel",
         "56",
         "R82",
         "False"
        ],
        [
         "314524",
         "2226343.0",
         "0",
         "0.33",
         "E",
         "5",
         "6",
         "56",
         "50",
         "B12",
         "Regular",
         "4762",
         "R93",
         "False"
        ],
        [
         "339023",
         "2272169.0",
         "0",
         "0.33",
         "E",
         "6",
         "6",
         "37",
         "76",
         "B2",
         "Diesel",
         "3744",
         "R93",
         "False"
        ],
        [
         "18629",
         "41707.0",
         "0",
         "1.0",
         "D",
         "8",
         "16",
         "42",
         "50",
         "B1",
         "Diesel",
         "1284",
         "R25",
         "False"
        ],
        [
         "43034",
         "86910.0",
         "0",
         "1.0",
         "C",
         "6",
         "6",
         "32",
         "50",
         "B6",
         "Diesel",
         "172",
         "R72",
         "False"
        ],
        [
         "454304",
         "3184466.0",
         "0",
         "1.0",
         "A",
         "7",
         "8",
         "72",
         "50",
         "B1",
         "Diesel",
         "33",
         "R24",
         "False"
        ],
        [
         "316084",
         "2227911.0",
         "0",
         "0.08",
         "C",
         "7",
         "8",
         "40",
         "52",
         "B2",
         "Regular",
         "146",
         "R73",
         "False"
        ],
        [
         "560321",
         "4151499.0",
         "0",
         "0.66",
         "D",
         "10",
         "16",
         "33",
         "50",
         "B10",
         "Diesel",
         "1109",
         "R24",
         "False"
        ],
        [
         "248508",
         "2099264.0",
         "0",
         "0.2",
         "E",
         "6",
         "9",
         "26",
         "68",
         "B1",
         "Regular",
         "2399",
         "R24",
         "False"
        ],
        [
         "623842",
         "5070904.0",
         "0",
         "0.46",
         "B",
         "11",
         "3",
         "39",
         "76",
         "B12",
         "Diesel",
         "82",
         "R94",
         "False"
        ],
        [
         "544056",
         "4135234.0",
         "0",
         "1.0",
         "C",
         "7",
         "22",
         "38",
         "50",
         "B2",
         "Regular",
         "159",
         "R53",
         "False"
        ],
        [
         "500277",
         "4027396.0",
         "0",
         "0.34",
         "C",
         "7",
         "2",
         "42",
         "50",
         "B12",
         "Diesel",
         "177",
         "R31",
         "False"
        ],
        [
         "161726",
         "1140604.0",
         "0",
         "1.0",
         "A",
         "7",
         "12",
         "76",
         "50",
         "B2",
         "Regular",
         "9",
         "R24",
         "False"
        ],
        [
         "265692",
         "2130873.0",
         "0",
         "0.39",
         "A",
         "6",
         "8",
         "20",
         "100",
         "B1",
         "Regular",
         "11",
         "R24",
         "False"
        ],
        [
         "140312",
         "1104968.0",
         "0",
         "0.27",
         "E",
         "5",
         "1",
         "36",
         "80",
         "B1",
         "Diesel",
         "8455",
         "R82",
         "False"
        ],
        [
         "395888",
         "3074728.0",
         "0",
         "1.0",
         "C",
         "6",
         "6",
         "72",
         "50",
         "B12",
         "Diesel",
         "153",
         "R72",
         "False"
        ],
        [
         "139020",
         "1102493.0",
         "0",
         "0.6",
         "C",
         "5",
         "0",
         "61",
         "50",
         "B2",
         "Diesel",
         "142",
         "R52",
         "False"
        ],
        [
         "505892",
         "4040537.0",
         "0",
         "0.15",
         "D",
         "12",
         "1",
         "56",
         "50",
         "B12",
         "Regular",
         "1729",
         "R74",
         "False"
        ],
        [
         "421695",
         "3132459.0",
         "0",
         "0.71",
         "B",
         "5",
         "8",
         "33",
         "50",
         "B2",
         "Regular",
         "72",
         "R93",
         "False"
        ],
        [
         "564981",
         "4156159.0",
         "0",
         "0.99",
         "B",
         "4",
         "3",
         "47",
         "50",
         "B3",
         "Diesel",
         "57",
         "R24",
         "False"
        ],
        [
         "62462",
         "134100.0",
         "0",
         "0.66",
         "C",
         "5",
         "7",
         "61",
         "50",
         "B1",
         "Regular",
         "451",
         "R52",
         "False"
        ],
        [
         "81648",
         "169115.0",
         "0",
         "1.0",
         "C",
         "6",
         "3",
         "33",
         "57",
         "B4",
         "Diesel",
         "393",
         "R24",
         "False"
        ],
        [
         "380358",
         "3042669.0",
         "0",
         "0.04",
         "D",
         "4",
         "0",
         "44",
         "50",
         "B12",
         "Regular",
         "1154",
         "R31",
         "False"
        ],
        [
         "513694",
         "4062046.0",
         "0",
         "0.19",
         "C",
         "7",
         "10",
         "41",
         "50",
         "B11",
         "Regular",
         "425",
         "R24",
         "False"
        ],
        [
         "62140",
         "133510.0",
         "0",
         "1.0",
         "A",
         "4",
         "12",
         "75",
         "50",
         "B3",
         "Diesel",
         "13",
         "R24",
         "False"
        ],
        [
         "668542",
         "6100084.0",
         "0",
         "0.52",
         "D",
         "10",
         "2",
         "45",
         "50",
         "B12",
         "Regular",
         "1403",
         "R93",
         "False"
        ],
        [
         "127682",
         "1080415.0",
         "0",
         "0.68",
         "C",
         "7",
         "22",
         "22",
         "85",
         "B2",
         "Regular",
         "186",
         "R24",
         "False"
        ],
        [
         "150664",
         "1121235.0",
         "0",
         "1.0",
         "D",
         "4",
         "6",
         "42",
         "72",
         "B13",
         "Regular",
         "960",
         "R31",
         "False"
        ],
        [
         "59171",
         "127916.0",
         "0",
         "0.18",
         "B",
         "7",
         "4",
         "74",
         "50",
         "B2",
         "Regular",
         "79",
         "R54",
         "False"
        ],
        [
         "386404",
         "3052195.0",
         "0",
         "1.0",
         "A",
         "7",
         "11",
         "61",
         "50",
         "B2",
         "Regular",
         "13",
         "R24",
         "False"
        ],
        [
         "354464",
         "2287613.0",
         "0",
         "0.08",
         "C",
         "6",
         "2",
         "43",
         "50",
         "B2",
         "Diesel",
         "400",
         "R52",
         "False"
        ],
        [
         "528401",
         "4119579.0",
         "0",
         "0.2",
         "E",
         "6",
         "6",
         "66",
         "50",
         "B1",
         "Regular",
         "3368",
         "R24",
         "False"
        ],
        [
         "387704",
         "3055299.0",
         "0",
         "1.0",
         "B",
         "5",
         "13",
         "42",
         "90",
         "B2",
         "Diesel",
         "98",
         "R53",
         "False"
        ],
        [
         "361475",
         "3010454.0",
         "0",
         "0.96",
         "C",
         "5",
         "2",
         "47",
         "50",
         "B12",
         "Regular",
         "321",
         "R11",
         "False"
        ],
        [
         "527591",
         "4118769.0",
         "0",
         "0.9",
         "B",
         "6",
         "8",
         "24",
         "95",
         "B1",
         "Regular",
         "58",
         "R24",
         "False"
        ],
        [
         "509255",
         "4048381.0",
         "0",
         "0.17",
         "D",
         "8",
         "0",
         "45",
         "72",
         "B12",
         "Regular",
         "1425",
         "R41",
         "False"
        ],
        [
         "161539",
         "1140222.0",
         "0",
         "0.18",
         "C",
         "5",
         "2",
         "39",
         "50",
         "B2",
         "Diesel",
         "354",
         "R52",
         "False"
        ],
        [
         "539382",
         "4130560.0",
         "0",
         "1.0",
         "D",
         "5",
         "5",
         "40",
         "50",
         "B4",
         "Diesel",
         "1501",
         "R41",
         "False"
        ],
        [
         "82527",
         "170643.0",
         "0",
         "0.55",
         "D",
         "5",
         "22",
         "29",
         "60",
         "B1",
         "Regular",
         "881",
         "R54",
         "False"
        ],
        [
         "271771",
         "2143938.0",
         "0",
         "1.0",
         "C",
         "6",
         "1",
         "42",
         "50",
         "B1",
         "Regular",
         "238",
         "R54",
         "False"
        ],
        [
         "202536",
         "2006526.0",
         "0",
         "0.16",
         "E",
         "4",
         "5",
         "36",
         "95",
         "B1",
         "Regular",
         "4762",
         "R93",
         "False"
        ],
        [
         "502242",
         "4032093.0",
         "0",
         "0.49",
         "D",
         "10",
         "6",
         "44",
         "50",
         "B12",
         "Regular",
         "824",
         "R91",
         "False"
        ],
        [
         "219272",
         "2048179.0",
         "0",
         "1.0",
         "A",
         "6",
         "7",
         "73",
         "50",
         "B2",
         "Regular",
         "37",
         "R53",
         "False"
        ],
        [
         "36696",
         "74547.0",
         "0",
         "0.31",
         "D",
         "5",
         "13",
         "23",
         "90",
         "B2",
         "Diesel",
         "1397",
         "R41",
         "False"
        ],
        [
         "171182",
         "1161666.0",
         "0",
         "0.25",
         "D",
         "5",
         "6",
         "33",
         "72",
         "B5",
         "Diesel",
         "912",
         "R82",
         "False"
        ]
       ],
       "shape": {
        "columns": 13,
        "rows": 135603
       }
      },
      "text/html": [
       "<div>\n",
       "<style scoped>\n",
       "    .dataframe tbody tr th:only-of-type {\n",
       "        vertical-align: middle;\n",
       "    }\n",
       "\n",
       "    .dataframe tbody tr th {\n",
       "        vertical-align: top;\n",
       "    }\n",
       "\n",
       "    .dataframe thead th {\n",
       "        text-align: right;\n",
       "    }\n",
       "</style>\n",
       "<table border=\"1\" class=\"dataframe\">\n",
       "  <thead>\n",
       "    <tr style=\"text-align: right;\">\n",
       "      <th></th>\n",
       "      <th>IDpol</th>\n",
       "      <th>ClaimNb</th>\n",
       "      <th>Exposure</th>\n",
       "      <th>Area</th>\n",
       "      <th>VehPower</th>\n",
       "      <th>VehAge</th>\n",
       "      <th>DrivAge</th>\n",
       "      <th>BonusMalus</th>\n",
       "      <th>VehBrand</th>\n",
       "      <th>VehGas</th>\n",
       "      <th>Density</th>\n",
       "      <th>Region</th>\n",
       "      <th>ClaimInd</th>\n",
       "    </tr>\n",
       "  </thead>\n",
       "  <tbody>\n",
       "    <tr>\n",
       "      <th>673753</th>\n",
       "      <td>6110071.0</td>\n",
       "      <td>0</td>\n",
       "      <td>0.74</td>\n",
       "      <td>E</td>\n",
       "      <td>5</td>\n",
       "      <td>0</td>\n",
       "      <td>25</td>\n",
       "      <td>90</td>\n",
       "      <td>B12</td>\n",
       "      <td>Diesel</td>\n",
       "      <td>3564</td>\n",
       "      <td>R11</td>\n",
       "      <td>False</td>\n",
       "    </tr>\n",
       "    <tr>\n",
       "      <th>289208</th>\n",
       "      <td>2190463.0</td>\n",
       "      <td>0</td>\n",
       "      <td>0.53</td>\n",
       "      <td>E</td>\n",
       "      <td>6</td>\n",
       "      <td>10</td>\n",
       "      <td>65</td>\n",
       "      <td>50</td>\n",
       "      <td>B2</td>\n",
       "      <td>Diesel</td>\n",
       "      <td>2278</td>\n",
       "      <td>R91</td>\n",
       "      <td>False</td>\n",
       "    </tr>\n",
       "    <tr>\n",
       "      <th>499438</th>\n",
       "      <td>4025340.0</td>\n",
       "      <td>0</td>\n",
       "      <td>0.06</td>\n",
       "      <td>C</td>\n",
       "      <td>8</td>\n",
       "      <td>1</td>\n",
       "      <td>54</td>\n",
       "      <td>50</td>\n",
       "      <td>B12</td>\n",
       "      <td>Diesel</td>\n",
       "      <td>157</td>\n",
       "      <td>R83</td>\n",
       "      <td>False</td>\n",
       "    </tr>\n",
       "    <tr>\n",
       "      <th>440941</th>\n",
       "      <td>3164830.0</td>\n",
       "      <td>0</td>\n",
       "      <td>1.00</td>\n",
       "      <td>A</td>\n",
       "      <td>6</td>\n",
       "      <td>2</td>\n",
       "      <td>85</td>\n",
       "      <td>50</td>\n",
       "      <td>B1</td>\n",
       "      <td>Regular</td>\n",
       "      <td>11</td>\n",
       "      <td>R24</td>\n",
       "      <td>False</td>\n",
       "    </tr>\n",
       "    <tr>\n",
       "      <th>216301</th>\n",
       "      <td>2038146.0</td>\n",
       "      <td>0</td>\n",
       "      <td>0.02</td>\n",
       "      <td>A</td>\n",
       "      <td>6</td>\n",
       "      <td>3</td>\n",
       "      <td>53</td>\n",
       "      <td>50</td>\n",
       "      <td>B12</td>\n",
       "      <td>Diesel</td>\n",
       "      <td>40</td>\n",
       "      <td>R93</td>\n",
       "      <td>False</td>\n",
       "    </tr>\n",
       "    <tr>\n",
       "      <th>...</th>\n",
       "      <td>...</td>\n",
       "      <td>...</td>\n",
       "      <td>...</td>\n",
       "      <td>...</td>\n",
       "      <td>...</td>\n",
       "      <td>...</td>\n",
       "      <td>...</td>\n",
       "      <td>...</td>\n",
       "      <td>...</td>\n",
       "      <td>...</td>\n",
       "      <td>...</td>\n",
       "      <td>...</td>\n",
       "      <td>...</td>\n",
       "    </tr>\n",
       "    <tr>\n",
       "      <th>598385</th>\n",
       "      <td>5001055.0</td>\n",
       "      <td>2</td>\n",
       "      <td>0.12</td>\n",
       "      <td>D</td>\n",
       "      <td>5</td>\n",
       "      <td>1</td>\n",
       "      <td>81</td>\n",
       "      <td>50</td>\n",
       "      <td>B12</td>\n",
       "      <td>Regular</td>\n",
       "      <td>517</td>\n",
       "      <td>R91</td>\n",
       "      <td>True</td>\n",
       "    </tr>\n",
       "    <tr>\n",
       "      <th>523549</th>\n",
       "      <td>4114727.0</td>\n",
       "      <td>0</td>\n",
       "      <td>1.00</td>\n",
       "      <td>A</td>\n",
       "      <td>6</td>\n",
       "      <td>11</td>\n",
       "      <td>53</td>\n",
       "      <td>50</td>\n",
       "      <td>B1</td>\n",
       "      <td>Diesel</td>\n",
       "      <td>28</td>\n",
       "      <td>R83</td>\n",
       "      <td>False</td>\n",
       "    </tr>\n",
       "    <tr>\n",
       "      <th>595241</th>\n",
       "      <td>4186419.0</td>\n",
       "      <td>0</td>\n",
       "      <td>0.17</td>\n",
       "      <td>E</td>\n",
       "      <td>7</td>\n",
       "      <td>12</td>\n",
       "      <td>42</td>\n",
       "      <td>50</td>\n",
       "      <td>B11</td>\n",
       "      <td>Diesel</td>\n",
       "      <td>4116</td>\n",
       "      <td>R24</td>\n",
       "      <td>False</td>\n",
       "    </tr>\n",
       "    <tr>\n",
       "      <th>168330</th>\n",
       "      <td>1155305.0</td>\n",
       "      <td>0</td>\n",
       "      <td>0.71</td>\n",
       "      <td>C</td>\n",
       "      <td>7</td>\n",
       "      <td>8</td>\n",
       "      <td>32</td>\n",
       "      <td>57</td>\n",
       "      <td>B5</td>\n",
       "      <td>Diesel</td>\n",
       "      <td>220</td>\n",
       "      <td>R53</td>\n",
       "      <td>False</td>\n",
       "    </tr>\n",
       "    <tr>\n",
       "      <th>200075</th>\n",
       "      <td>2001916.0</td>\n",
       "      <td>0</td>\n",
       "      <td>0.80</td>\n",
       "      <td>D</td>\n",
       "      <td>7</td>\n",
       "      <td>2</td>\n",
       "      <td>64</td>\n",
       "      <td>69</td>\n",
       "      <td>B12</td>\n",
       "      <td>Diesel</td>\n",
       "      <td>563</td>\n",
       "      <td>R52</td>\n",
       "      <td>False</td>\n",
       "    </tr>\n",
       "  </tbody>\n",
       "</table>\n",
       "<p>135603 rows × 13 columns</p>\n",
       "</div>"
      ],
      "text/plain": [
       "            IDpol  ClaimNb  Exposure Area  VehPower  VehAge  DrivAge  \\\n",
       "673753  6110071.0        0      0.74    E         5       0       25   \n",
       "289208  2190463.0        0      0.53    E         6      10       65   \n",
       "499438  4025340.0        0      0.06    C         8       1       54   \n",
       "440941  3164830.0        0      1.00    A         6       2       85   \n",
       "216301  2038146.0        0      0.02    A         6       3       53   \n",
       "...           ...      ...       ...  ...       ...     ...      ...   \n",
       "598385  5001055.0        2      0.12    D         5       1       81   \n",
       "523549  4114727.0        0      1.00    A         6      11       53   \n",
       "595241  4186419.0        0      0.17    E         7      12       42   \n",
       "168330  1155305.0        0      0.71    C         7       8       32   \n",
       "200075  2001916.0        0      0.80    D         7       2       64   \n",
       "\n",
       "        BonusMalus VehBrand   VehGas  Density Region  ClaimInd  \n",
       "673753          90      B12   Diesel     3564    R11     False  \n",
       "289208          50       B2   Diesel     2278    R91     False  \n",
       "499438          50      B12   Diesel      157    R83     False  \n",
       "440941          50       B1  Regular       11    R24     False  \n",
       "216301          50      B12   Diesel       40    R93     False  \n",
       "...            ...      ...      ...      ...    ...       ...  \n",
       "598385          50      B12  Regular      517    R91      True  \n",
       "523549          50       B1   Diesel       28    R83     False  \n",
       "595241          50      B11   Diesel     4116    R24     False  \n",
       "168330          57       B5   Diesel      220    R53     False  \n",
       "200075          69      B12   Diesel      563    R52     False  \n",
       "\n",
       "[135603 rows x 13 columns]"
      ]
     },
     "execution_count": 112,
     "metadata": {},
     "output_type": "execute_result"
    }
   ],
   "source": [
    "X_test"
   ]
  },
  {
   "cell_type": "code",
   "execution_count": 113,
   "id": "99d60de1",
   "metadata": {},
   "outputs": [],
   "source": [
    "X_test = X_test.reset_index(drop=True)"
   ]
  },
  {
   "cell_type": "markdown",
   "id": "4f6d9b2e",
   "metadata": {},
   "source": [
    "## Create prompts using raw features"
   ]
  },
  {
   "cell_type": "markdown",
   "id": "8c4f8e55",
   "metadata": {},
   "source": [
    "Prompt Structure:\n",
    "\n",
    "\"You are an auto insurance underwriter. A policyholder is {X_test[\"DrivAge\"][i]} years old and lives in area {X_test[\"Area\"][i]} of region {X_test[\"Region\"][i]} with a population density of {X_test[\"Density\"][i]} people per square kilometer. They drive a {X_test[\"VehBrand\"][i]} vehicle that is {X_test[\"VehAge\"][i]} years old, which takes {X_test[\"VehGas\"][i]} gas and is in power class {X_test[\"VehPower\"][i]}. The policyholder has a Bonus-Malus score of {X_test[\"BonusMalus\"][i]}. What is the risk level for this policyholder?\""
   ]
  },
  {
   "cell_type": "code",
   "execution_count": 114,
   "id": "6aa61944",
   "metadata": {},
   "outputs": [],
   "source": [
    "prompt_list = []\n",
    "for i in range(len(X_test)):\n",
    "    prompt_list.append(f\"You are an auto insurance underwriter. A policyholder is {X_test[\"DrivAge\"][i]} years old and lives in area {X_test[\"Area\"][i]} of region {X_test[\"Region\"][i]} with a population density of {X_test[\"Density\"][i]} people per square kilometer. They drive a {X_test[\"VehBrand\"][i]} vehicle that is {X_test[\"VehAge\"][i]} years old, which takes {X_test[\"VehGas\"][i]} gas and is in power class {X_test[\"VehPower\"][i]}. The policyholder has a Bonus-Malus score of {X_test[\"BonusMalus\"][i]}. What is the risk level for this policyholder?\")"
   ]
  },
  {
   "cell_type": "markdown",
   "id": "6d196714",
   "metadata": {},
   "source": [
    "### Retrieve embeddings for all prompts"
   ]
  },
  {
   "cell_type": "code",
   "execution_count": 115,
   "id": "a093e6f1",
   "metadata": {},
   "outputs": [
    {
     "data": {
      "text/plain": [
       "[array([[ 0.0120223 ,  0.00302717,  0.0131409 , ..., -0.0182614 ,\n",
       "         -0.0015818 , -0.00402434]], shape=(1, 1536), dtype=float32),\n",
       " array([[ 0.01136228,  0.00263271,  0.01255052, ..., -0.01822829,\n",
       "         -0.0018735 , -0.00405941]], shape=(1, 1536), dtype=float32),\n",
       " array([[ 0.01097369,  0.00291234,  0.01298736, ..., -0.01754059,\n",
       "         -0.00124441, -0.00373783]], shape=(1, 1536), dtype=float32),\n",
       " array([[ 0.0116713 ,  0.00343947,  0.01378808, ..., -0.01807467,\n",
       "         -0.00187842, -0.00446554]], shape=(1, 1536), dtype=float32),\n",
       " array([[ 0.01137874,  0.00346014,  0.01427841, ..., -0.01726652,\n",
       "         -0.00111431, -0.00419642]], shape=(1, 1536), dtype=float32)]"
      ]
     },
     "execution_count": 115,
     "metadata": {},
     "output_type": "execute_result"
    }
   ],
   "source": [
    "em_vecs = []\n",
    "\n",
    "for i in range(len(X_test)):\n",
    "    em_vecs.append(embedding_retrieval(prompt_list[i]))\n",
    "\n",
    "em_vecs[:5]"
   ]
  },
  {
   "cell_type": "code",
   "execution_count": 116,
   "id": "99c26c31",
   "metadata": {},
   "outputs": [
    {
     "data": {
      "text/plain": [
       "array([[ 0.0120223 ,  0.00302717,  0.0131409 , ..., -0.0182614 ,\n",
       "        -0.0015818 , -0.00402434],\n",
       "       [ 0.01136228,  0.00263271,  0.01255052, ..., -0.01822829,\n",
       "        -0.0018735 , -0.00405941],\n",
       "       [ 0.01097369,  0.00291234,  0.01298736, ..., -0.01754059,\n",
       "        -0.00124441, -0.00373783],\n",
       "       ...,\n",
       "       [ 0.01332157,  0.00247425,  0.01221506, ..., -0.01983149,\n",
       "        -0.00136406, -0.00413136],\n",
       "       [ 0.01094934,  0.002397  ,  0.01351879, ..., -0.01664522,\n",
       "        -0.00102856, -0.00362222],\n",
       "       [ 0.01199242,  0.00239452,  0.01330731, ..., -0.01815866,\n",
       "        -0.0013783 , -0.00424022]], shape=(135603, 1536), dtype=float32)"
      ]
     },
     "execution_count": 116,
     "metadata": {},
     "output_type": "execute_result"
    }
   ],
   "source": [
    "emb_mat = np.vstack(em_vecs)\n",
    "emb_mat"
   ]
  },
  {
   "cell_type": "markdown",
   "id": "b79616bb",
   "metadata": {},
   "source": [
    "### Scale embeddings and perform PCA"
   ]
  },
  {
   "cell_type": "code",
   "execution_count": 117,
   "id": "7b975bfd",
   "metadata": {},
   "outputs": [
    {
     "data": {
      "text/plain": [
       "array([[ 0.7252341 , -0.3744536 ,  0.03583263, ..., -0.25577113,\n",
       "         0.14317793,  0.32404265],\n",
       "       [-0.19780616, -1.011717  , -0.64909   , ..., -0.21794403,\n",
       "        -0.4642412 ,  0.23731118],\n",
       "       [-0.74123937, -0.5599646 , -0.14229293, ...,  0.56758255,\n",
       "         0.84573114,  1.0327626 ],\n",
       "       ...,\n",
       "       [ 2.5422478 , -1.2677113 , -1.0382593 , ..., -2.0492167 ,\n",
       "         0.59659415,  0.05933294],\n",
       "       [-0.77529585, -1.3925201 ,  0.47423056, ...,  1.5903269 ,\n",
       "         1.2952074 ,  1.3187311 ],\n",
       "       [ 0.68344885, -1.39652   ,  0.2288814 , ..., -0.1384069 ,\n",
       "         0.5669423 , -0.2099508 ]], shape=(135603, 1536), dtype=float32)"
      ]
     },
     "execution_count": 117,
     "metadata": {},
     "output_type": "execute_result"
    }
   ],
   "source": [
    "scaler = StandardScaler()\n",
    "mat_scaled = scaler.fit_transform(emb_mat)\n",
    "mat_scaled"
   ]
  },
  {
   "cell_type": "code",
   "execution_count": 118,
   "id": "ad3d773b",
   "metadata": {},
   "outputs": [
    {
     "data": {
      "text/plain": [
       "array([[-13.97828   ,  18.314499  ,  -0.8668174 , ...,   5.160678  ,\n",
       "          8.082897  ,   9.652367  ],\n",
       "       [ -5.5677247 ,  18.275528  ,   7.7357645 , ...,   2.0342748 ,\n",
       "          8.362164  ,   6.9686146 ],\n",
       "       [  1.2092246 ,  12.958163  ,  -0.90027964, ...,  -6.1984534 ,\n",
       "          5.293909  , -11.315968  ],\n",
       "       ...,\n",
       "       [-34.792072  ,  20.472147  ,  -4.2936983 , ...,  -4.6740913 ,\n",
       "          9.978675  ,   4.208269  ],\n",
       "       [ 22.757086  ,   8.081911  ,   0.03488749, ..., -11.668934  ,\n",
       "         -2.0442383 ,  -8.477205  ],\n",
       "       [ 14.0921545 ,  12.682268  ,  11.699463  , ...,   0.23275162,\n",
       "        -14.899396  ,   7.021913  ]], shape=(135603, 13), dtype=float32)"
      ]
     },
     "execution_count": 118,
     "metadata": {},
     "output_type": "execute_result"
    }
   ],
   "source": [
    "pca = PCA(n_components=0.95)\n",
    "principal_components = pca.fit_transform(mat_scaled)\n",
    "principal_components"
   ]
  },
  {
   "cell_type": "markdown",
   "id": "577474e6",
   "metadata": {},
   "source": [
    "Dimension has been reduced from 1536 to 13"
   ]
  },
  {
   "cell_type": "code",
   "execution_count": 119,
   "id": "496267cd",
   "metadata": {},
   "outputs": [
    {
     "data": {
      "text/plain": [
       "array([[False],\n",
       "       [False],\n",
       "       [False],\n",
       "       ...,\n",
       "       [False],\n",
       "       [False],\n",
       "       [False]], shape=(135603, 1))"
      ]
     },
     "execution_count": 119,
     "metadata": {},
     "output_type": "execute_result"
    }
   ],
   "source": [
    "indtest = np.array([np.array(X_test[\"ClaimInd\"])]).T\n",
    "indtest"
   ]
  },
  {
   "cell_type": "code",
   "execution_count": 120,
   "id": "16728067",
   "metadata": {},
   "outputs": [],
   "source": [
    "new_X = np.hstack((principal_components, indtest))"
   ]
  },
  {
   "cell_type": "code",
   "execution_count": 121,
   "id": "3229baaf",
   "metadata": {},
   "outputs": [
    {
     "data": {
      "application/vnd.microsoft.datawrangler.viewer.v0+json": {
       "columns": [
        {
         "name": "index",
         "rawType": "int64",
         "type": "integer"
        },
        {
         "name": "14",
         "rawType": "float32",
         "type": "float"
        }
       ],
       "ref": "6bd155dc-5b48-45be-8ccb-925a5c2c5f7b",
       "rows": [
        [
         "0",
         "0.0"
        ],
        [
         "1",
         "0.0"
        ],
        [
         "2",
         "0.0"
        ],
        [
         "3",
         "0.0"
        ],
        [
         "4",
         "0.0"
        ],
        [
         "5",
         "0.0"
        ],
        [
         "6",
         "0.0"
        ],
        [
         "7",
         "0.0"
        ],
        [
         "8",
         "0.0"
        ],
        [
         "9",
         "0.0"
        ],
        [
         "10",
         "0.0"
        ],
        [
         "11",
         "0.0"
        ],
        [
         "12",
         "0.0"
        ],
        [
         "13",
         "0.0"
        ],
        [
         "14",
         "0.0"
        ],
        [
         "15",
         "0.0"
        ],
        [
         "16",
         "0.0"
        ],
        [
         "17",
         "0.0"
        ],
        [
         "18",
         "0.0"
        ],
        [
         "19",
         "0.0"
        ],
        [
         "20",
         "0.0"
        ],
        [
         "21",
         "0.0"
        ],
        [
         "22",
         "0.0"
        ],
        [
         "23",
         "0.0"
        ],
        [
         "24",
         "0.0"
        ],
        [
         "25",
         "0.0"
        ],
        [
         "26",
         "0.0"
        ],
        [
         "27",
         "0.0"
        ],
        [
         "28",
         "0.0"
        ],
        [
         "29",
         "0.0"
        ],
        [
         "30",
         "0.0"
        ],
        [
         "31",
         "0.0"
        ],
        [
         "32",
         "0.0"
        ],
        [
         "33",
         "0.0"
        ],
        [
         "34",
         "0.0"
        ],
        [
         "35",
         "0.0"
        ],
        [
         "36",
         "0.0"
        ],
        [
         "37",
         "0.0"
        ],
        [
         "38",
         "0.0"
        ],
        [
         "39",
         "0.0"
        ],
        [
         "40",
         "0.0"
        ],
        [
         "41",
         "0.0"
        ],
        [
         "42",
         "0.0"
        ],
        [
         "43",
         "0.0"
        ],
        [
         "44",
         "0.0"
        ],
        [
         "45",
         "0.0"
        ],
        [
         "46",
         "0.0"
        ],
        [
         "47",
         "0.0"
        ],
        [
         "48",
         "0.0"
        ],
        [
         "49",
         "0.0"
        ]
       ],
       "shape": {
        "columns": 1,
        "rows": 135603
       }
      },
      "text/plain": [
       "0         0.0\n",
       "1         0.0\n",
       "2         0.0\n",
       "3         0.0\n",
       "4         0.0\n",
       "         ... \n",
       "135598    1.0\n",
       "135599    0.0\n",
       "135600    0.0\n",
       "135601    0.0\n",
       "135602    0.0\n",
       "Name: 14, Length: 135603, dtype: float32"
      ]
     },
     "execution_count": 121,
     "metadata": {},
     "output_type": "execute_result"
    }
   ],
   "source": [
    "pdX = pd.DataFrame(new_X, columns=['1', '2', '3','4','5','6','7','8','9','10','11','12','13','14'])\n",
    "pdX[\"14\"]"
   ]
  },
  {
   "cell_type": "code",
   "execution_count": 122,
   "id": "7b2f4748",
   "metadata": {},
   "outputs": [],
   "source": [
    "pc = pdX.drop([\"14\"], axis = 1)"
   ]
  },
  {
   "cell_type": "markdown",
   "id": "1479d590",
   "metadata": {},
   "source": [
    "### Split data into test and train sets"
   ]
  },
  {
   "cell_type": "code",
   "execution_count": 123,
   "id": "8f92e44f",
   "metadata": {},
   "outputs": [],
   "source": [
    "#stratified pca\n",
    "from sklearn.model_selection import train_test_split\n",
    "X_train2, X_test2, y_train2, y_test2 = train_test_split(pc, y_test, stratify = pdX[\"14\"], test_size=0.2, random_state=42)"
   ]
  },
  {
   "cell_type": "code",
   "execution_count": 124,
   "id": "de3659e1",
   "metadata": {},
   "outputs": [],
   "source": [
    "import numpy as np\n",
    "from tensorflow import keras\n",
    "from tensorflow.keras import layers"
   ]
  },
  {
   "cell_type": "markdown",
   "id": "0cc3f84d",
   "metadata": {},
   "source": [
    "### Train a NN to predict frequency"
   ]
  },
  {
   "cell_type": "code",
   "execution_count": null,
   "id": "62ee0f9e",
   "metadata": {},
   "outputs": [
    {
     "name": "stdout",
     "output_type": "stream",
     "text": [
      "Epoch 1/15\n",
      "\u001b[1m679/679\u001b[0m \u001b[32m━━━━━━━━━━━━━━━━━━━━\u001b[0m\u001b[37m\u001b[0m \u001b[1m1s\u001b[0m 800us/step - loss: 14.5743 - mae: 0.8599 - val_loss: 7.0331 - val_mae: 0.5654\n",
      "Epoch 2/15\n",
      "\u001b[1m679/679\u001b[0m \u001b[32m━━━━━━━━━━━━━━━━━━━━\u001b[0m\u001b[37m\u001b[0m \u001b[1m1s\u001b[0m 717us/step - loss: 13.8019 - mae: 0.5936 - val_loss: 6.9581 - val_mae: 0.4928\n",
      "Epoch 3/15\n",
      "\u001b[1m679/679\u001b[0m \u001b[32m━━━━━━━━━━━━━━━━━━━━\u001b[0m\u001b[37m\u001b[0m \u001b[1m1s\u001b[0m 718us/step - loss: 13.7275 - mae: 0.5369 - val_loss: 6.9218 - val_mae: 0.4592\n",
      "Epoch 4/15\n",
      "\u001b[1m679/679\u001b[0m \u001b[32m━━━━━━━━━━━━━━━━━━━━\u001b[0m\u001b[37m\u001b[0m \u001b[1m1s\u001b[0m 727us/step - loss: 13.6834 - mae: 0.5056 - val_loss: 6.9005 - val_mae: 0.4388\n",
      "Epoch 5/15\n",
      "\u001b[1m679/679\u001b[0m \u001b[32m━━━━━━━━━━━━━━━━━━━━\u001b[0m\u001b[37m\u001b[0m \u001b[1m1s\u001b[0m 726us/step - loss: 13.6542 - mae: 0.4913 - val_loss: 6.8996 - val_mae: 0.4214\n",
      "Epoch 6/15\n",
      "\u001b[1m679/679\u001b[0m \u001b[32m━━━━━━━━━━━━━━━━━━━━\u001b[0m\u001b[37m\u001b[0m \u001b[1m1s\u001b[0m 721us/step - loss: 13.6493 - mae: 0.4781 - val_loss: 6.8967 - val_mae: 0.4203\n",
      "Epoch 7/15\n",
      "\u001b[1m679/679\u001b[0m \u001b[32m━━━━━━━━━━━━━━━━━━━━\u001b[0m\u001b[37m\u001b[0m \u001b[1m0s\u001b[0m 714us/step - loss: 13.6303 - mae: 0.4706 - val_loss: 6.8874 - val_mae: 0.4030\n",
      "Epoch 8/15\n",
      "\u001b[1m679/679\u001b[0m \u001b[32m━━━━━━━━━━━━━━━━━━━━\u001b[0m\u001b[37m\u001b[0m \u001b[1m1s\u001b[0m 717us/step - loss: 13.6157 - mae: 0.4631 - val_loss: 6.8931 - val_mae: 0.4013\n",
      "Epoch 9/15\n",
      "\u001b[1m679/679\u001b[0m \u001b[32m━━━━━━━━━━━━━━━━━━━━\u001b[0m\u001b[37m\u001b[0m \u001b[1m0s\u001b[0m 713us/step - loss: 13.5974 - mae: 0.4657 - val_loss: 6.8795 - val_mae: 0.3838\n",
      "Epoch 10/15\n",
      "\u001b[1m679/679\u001b[0m \u001b[32m━━━━━━━━━━━━━━━━━━━━\u001b[0m\u001b[37m\u001b[0m \u001b[1m1s\u001b[0m 721us/step - loss: 13.5877 - mae: 0.4592 - val_loss: 6.8878 - val_mae: 0.3934\n",
      "Epoch 11/15\n",
      "\u001b[1m679/679\u001b[0m \u001b[32m━━━━━━━━━━━━━━━━━━━━\u001b[0m\u001b[37m\u001b[0m \u001b[1m0s\u001b[0m 708us/step - loss: 13.5558 - mae: 0.4641 - val_loss: 6.8948 - val_mae: 0.3930\n",
      "Epoch 12/15\n",
      "\u001b[1m679/679\u001b[0m \u001b[32m━━━━━━━━━━━━━━━━━━━━\u001b[0m\u001b[37m\u001b[0m \u001b[1m1s\u001b[0m 728us/step - loss: 13.5249 - mae: 0.4641 - val_loss: 6.8975 - val_mae: 0.4031\n",
      "Epoch 13/15\n",
      "\u001b[1m679/679\u001b[0m \u001b[32m━━━━━━━━━━━━━━━━━━━━\u001b[0m\u001b[37m\u001b[0m \u001b[1m1s\u001b[0m 722us/step - loss: 13.4960 - mae: 0.4645 - val_loss: 6.9047 - val_mae: 0.3877\n",
      "Epoch 14/15\n",
      "\u001b[1m679/679\u001b[0m \u001b[32m━━━━━━━━━━━━━━━━━━━━\u001b[0m\u001b[37m\u001b[0m \u001b[1m0s\u001b[0m 717us/step - loss: 13.4506 - mae: 0.4679 - val_loss: 6.9100 - val_mae: 0.3881\n",
      "Epoch 15/15\n",
      "\u001b[1m679/679\u001b[0m \u001b[32m━━━━━━━━━━━━━━━━━━━━\u001b[0m\u001b[37m\u001b[0m \u001b[1m1s\u001b[0m 749us/step - loss: 13.4049 - mae: 0.4662 - val_loss: 6.9117 - val_mae: 0.3852\n"
     ]
    }
   ],
   "source": [
    "model = keras.Sequential([\n",
    "    layers.Dense(64, activation='relu'),\n",
    "    layers.Dense(32, activation='relu'),\n",
    "    layers.Dense(1)\n",
    "])\n",
    "model.compile(optimizer='adam',\n",
    "              loss='mse',\n",
    "              metrics=['mae'])\n",
    "model_history = model.fit(\n",
    "    X_train2, y_train2,\n",
    "    epochs=15,\n",
    "    batch_size=128,\n",
    "    validation_split=0.2)"
   ]
  },
  {
   "cell_type": "code",
   "execution_count": 202,
   "id": "7af10b27",
   "metadata": {},
   "outputs": [
    {
     "data": {
      "image/png": "[encoded data removed]",
      "text/plain": [
       "<Figure size 640x480 with 1 Axes>"
      ]
     },
     "metadata": {},
     "output_type": "display_data"
    }
   ],
   "source": [
    "plt.plot(model_history.history['val_loss'])\n",
    "plt.title('Loss in Embedded Model')\n",
    "plt.xlabel('Epochs')\n",
    "plt.ylabel('Validation Loss')\n",
    "plt.show()"
   ]
  },
  {
   "cell_type": "code",
   "execution_count": 203,
   "id": "f11f23c2",
   "metadata": {},
   "outputs": [
    {
     "name": "stdout",
     "output_type": "stream",
     "text": [
      "\u001b[1m848/848\u001b[0m \u001b[32m━━━━━━━━━━━━━━━━━━━━\u001b[0m\u001b[37m\u001b[0m \u001b[1m0s\u001b[0m 345us/step\n"
     ]
    }
   ],
   "source": [
    "y_pred = model.predict(X_test2)"
   ]
  },
  {
   "cell_type": "code",
   "execution_count": 204,
   "id": "498ad860",
   "metadata": {},
   "outputs": [
    {
     "data": {
      "text/plain": [
       "array([[0.12949356],\n",
       "       [0.08291577],\n",
       "       [0.1435707 ],\n",
       "       ...,\n",
       "       [0.1435707 ],\n",
       "       [0.52480686],\n",
       "       [0.12890111]], shape=(27121, 1), dtype=float32)"
      ]
     },
     "execution_count": 204,
     "metadata": {},
     "output_type": "execute_result"
    }
   ],
   "source": [
    "y_pred"
   ]
  },
  {
   "cell_type": "code",
   "execution_count": 205,
   "id": "dca8f138",
   "metadata": {},
   "outputs": [],
   "source": [
    "y_test2 = y_test2.reset_index(drop=True)"
   ]
  },
  {
   "cell_type": "code",
   "execution_count": 206,
   "id": "fde44564",
   "metadata": {},
   "outputs": [
    {
     "name": "stdout",
     "output_type": "stream",
     "text": [
      "\u001b[1m848/848\u001b[0m \u001b[32m━━━━━━━━━━━━━━━━━━━━\u001b[0m\u001b[37m\u001b[0m \u001b[1m0s\u001b[0m 508us/step - loss: 36.6722 - mae: 0.4498\n",
      "Test MAE: 0.4497780501842499\n",
      "\u001b[1m848/848\u001b[0m \u001b[32m━━━━━━━━━━━━━━━━━━━━\u001b[0m\u001b[37m\u001b[0m \u001b[1m0s\u001b[0m 321us/step\n"
     ]
    }
   ],
   "source": [
    "loss, mae = model.evaluate(X_test2, y_test2)\n",
    "print(f\"Test MAE: {mae}\")\n",
    "\n",
    "predictions = model.predict(X_test2)"
   ]
  },
  {
   "cell_type": "markdown",
   "id": "e6b5371c",
   "metadata": {},
   "source": [
    "## Perform same procedure for raw data"
   ]
  },
  {
   "cell_type": "code",
   "execution_count": 151,
   "id": "decbbbe3",
   "metadata": {},
   "outputs": [
    {
     "data": {
      "application/vnd.microsoft.datawrangler.viewer.v0+json": {
       "columns": [
        {
         "name": "index",
         "rawType": "int64",
         "type": "integer"
        },
        {
         "name": "IDpol",
         "rawType": "float64",
         "type": "float"
        },
        {
         "name": "ClaimNb",
         "rawType": "int64",
         "type": "integer"
        },
        {
         "name": "Exposure",
         "rawType": "float64",
         "type": "float"
        },
        {
         "name": "Area",
         "rawType": "object",
         "type": "string"
        },
        {
         "name": "VehPower",
         "rawType": "int64",
         "type": "integer"
        },
        {
         "name": "VehAge",
         "rawType": "int64",
         "type": "integer"
        },
        {
         "name": "DrivAge",
         "rawType": "int64",
         "type": "integer"
        },
        {
         "name": "BonusMalus",
         "rawType": "int64",
         "type": "integer"
        },
        {
         "name": "VehBrand",
         "rawType": "object",
         "type": "string"
        },
        {
         "name": "VehGas",
         "rawType": "object",
         "type": "string"
        },
        {
         "name": "Density",
         "rawType": "int64",
         "type": "integer"
        },
        {
         "name": "Region",
         "rawType": "object",
         "type": "string"
        },
        {
         "name": "ClaimInd",
         "rawType": "bool",
         "type": "boolean"
        }
       ],
       "ref": "e37c6227-860d-4c58-8e2c-937bad9c01b5",
       "rows": [
        [
         "0",
         "6110071.0",
         "0",
         "0.74",
         "E",
         "5",
         "0",
         "25",
         "90",
         "B12",
         "Diesel",
         "3564",
         "R11",
         "False"
        ],
        [
         "1",
         "2190463.0",
         "0",
         "0.53",
         "E",
         "6",
         "10",
         "65",
         "50",
         "B2",
         "Diesel",
         "2278",
         "R91",
         "False"
        ],
        [
         "2",
         "4025340.0",
         "0",
         "0.06",
         "C",
         "8",
         "1",
         "54",
         "50",
         "B12",
         "Diesel",
         "157",
         "R83",
         "False"
        ],
        [
         "3",
         "3164830.0",
         "0",
         "1.0",
         "A",
         "6",
         "2",
         "85",
         "50",
         "B1",
         "Regular",
         "11",
         "R24",
         "False"
        ],
        [
         "4",
         "2038146.0",
         "0",
         "0.02",
         "A",
         "6",
         "3",
         "53",
         "50",
         "B12",
         "Diesel",
         "40",
         "R93",
         "False"
        ],
        [
         "5",
         "2077148.0",
         "0",
         "1.0",
         "B",
         "6",
         "7",
         "82",
         "58",
         "B1",
         "Diesel",
         "56",
         "R82",
         "False"
        ],
        [
         "6",
         "2226343.0",
         "0",
         "0.33",
         "E",
         "5",
         "6",
         "56",
         "50",
         "B12",
         "Regular",
         "4762",
         "R93",
         "False"
        ],
        [
         "7",
         "2272169.0",
         "0",
         "0.33",
         "E",
         "6",
         "6",
         "37",
         "76",
         "B2",
         "Diesel",
         "3744",
         "R93",
         "False"
        ],
        [
         "8",
         "41707.0",
         "0",
         "1.0",
         "D",
         "8",
         "16",
         "42",
         "50",
         "B1",
         "Diesel",
         "1284",
         "R25",
         "False"
        ],
        [
         "9",
         "86910.0",
         "0",
         "1.0",
         "C",
         "6",
         "6",
         "32",
         "50",
         "B6",
         "Diesel",
         "172",
         "R72",
         "False"
        ],
        [
         "10",
         "3184466.0",
         "0",
         "1.0",
         "A",
         "7",
         "8",
         "72",
         "50",
         "B1",
         "Diesel",
         "33",
         "R24",
         "False"
        ],
        [
         "11",
         "2227911.0",
         "0",
         "0.08",
         "C",
         "7",
         "8",
         "40",
         "52",
         "B2",
         "Regular",
         "146",
         "R73",
         "False"
        ],
        [
         "12",
         "4151499.0",
         "0",
         "0.66",
         "D",
         "10",
         "16",
         "33",
         "50",
         "B10",
         "Diesel",
         "1109",
         "R24",
         "False"
        ],
        [
         "13",
         "2099264.0",
         "0",
         "0.2",
         "E",
         "6",
         "9",
         "26",
         "68",
         "B1",
         "Regular",
         "2399",
         "R24",
         "False"
        ],
        [
         "14",
         "5070904.0",
         "0",
         "0.46",
         "B",
         "11",
         "3",
         "39",
         "76",
         "B12",
         "Diesel",
         "82",
         "R94",
         "False"
        ],
        [
         "15",
         "4135234.0",
         "0",
         "1.0",
         "C",
         "7",
         "22",
         "38",
         "50",
         "B2",
         "Regular",
         "159",
         "R53",
         "False"
        ],
        [
         "16",
         "4027396.0",
         "0",
         "0.34",
         "C",
         "7",
         "2",
         "42",
         "50",
         "B12",
         "Diesel",
         "177",
         "R31",
         "False"
        ],
        [
         "17",
         "1140604.0",
         "0",
         "1.0",
         "A",
         "7",
         "12",
         "76",
         "50",
         "B2",
         "Regular",
         "9",
         "R24",
         "False"
        ],
        [
         "18",
         "2130873.0",
         "0",
         "0.39",
         "A",
         "6",
         "8",
         "20",
         "100",
         "B1",
         "Regular",
         "11",
         "R24",
         "False"
        ],
        [
         "19",
         "1104968.0",
         "0",
         "0.27",
         "E",
         "5",
         "1",
         "36",
         "80",
         "B1",
         "Diesel",
         "8455",
         "R82",
         "False"
        ],
        [
         "20",
         "3074728.0",
         "0",
         "1.0",
         "C",
         "6",
         "6",
         "72",
         "50",
         "B12",
         "Diesel",
         "153",
         "R72",
         "False"
        ],
        [
         "21",
         "1102493.0",
         "0",
         "0.6",
         "C",
         "5",
         "0",
         "61",
         "50",
         "B2",
         "Diesel",
         "142",
         "R52",
         "False"
        ],
        [
         "22",
         "4040537.0",
         "0",
         "0.15",
         "D",
         "12",
         "1",
         "56",
         "50",
         "B12",
         "Regular",
         "1729",
         "R74",
         "False"
        ],
        [
         "23",
         "3132459.0",
         "0",
         "0.71",
         "B",
         "5",
         "8",
         "33",
         "50",
         "B2",
         "Regular",
         "72",
         "R93",
         "False"
        ],
        [
         "24",
         "4156159.0",
         "0",
         "0.99",
         "B",
         "4",
         "3",
         "47",
         "50",
         "B3",
         "Diesel",
         "57",
         "R24",
         "False"
        ],
        [
         "25",
         "134100.0",
         "0",
         "0.66",
         "C",
         "5",
         "7",
         "61",
         "50",
         "B1",
         "Regular",
         "451",
         "R52",
         "False"
        ],
        [
         "26",
         "169115.0",
         "0",
         "1.0",
         "C",
         "6",
         "3",
         "33",
         "57",
         "B4",
         "Diesel",
         "393",
         "R24",
         "False"
        ],
        [
         "27",
         "3042669.0",
         "0",
         "0.04",
         "D",
         "4",
         "0",
         "44",
         "50",
         "B12",
         "Regular",
         "1154",
         "R31",
         "False"
        ],
        [
         "28",
         "4062046.0",
         "0",
         "0.19",
         "C",
         "7",
         "10",
         "41",
         "50",
         "B11",
         "Regular",
         "425",
         "R24",
         "False"
        ],
        [
         "29",
         "133510.0",
         "0",
         "1.0",
         "A",
         "4",
         "12",
         "75",
         "50",
         "B3",
         "Diesel",
         "13",
         "R24",
         "False"
        ],
        [
         "30",
         "6100084.0",
         "0",
         "0.52",
         "D",
         "10",
         "2",
         "45",
         "50",
         "B12",
         "Regular",
         "1403",
         "R93",
         "False"
        ],
        [
         "31",
         "1080415.0",
         "0",
         "0.68",
         "C",
         "7",
         "22",
         "22",
         "85",
         "B2",
         "Regular",
         "186",
         "R24",
         "False"
        ],
        [
         "32",
         "1121235.0",
         "0",
         "1.0",
         "D",
         "4",
         "6",
         "42",
         "72",
         "B13",
         "Regular",
         "960",
         "R31",
         "False"
        ],
        [
         "33",
         "127916.0",
         "0",
         "0.18",
         "B",
         "7",
         "4",
         "74",
         "50",
         "B2",
         "Regular",
         "79",
         "R54",
         "False"
        ],
        [
         "34",
         "3052195.0",
         "0",
         "1.0",
         "A",
         "7",
         "11",
         "61",
         "50",
         "B2",
         "Regular",
         "13",
         "R24",
         "False"
        ],
        [
         "35",
         "2287613.0",
         "0",
         "0.08",
         "C",
         "6",
         "2",
         "43",
         "50",
         "B2",
         "Diesel",
         "400",
         "R52",
         "False"
        ],
        [
         "36",
         "4119579.0",
         "0",
         "0.2",
         "E",
         "6",
         "6",
         "66",
         "50",
         "B1",
         "Regular",
         "3368",
         "R24",
         "False"
        ],
        [
         "37",
         "3055299.0",
         "0",
         "1.0",
         "B",
         "5",
         "13",
         "42",
         "90",
         "B2",
         "Diesel",
         "98",
         "R53",
         "False"
        ],
        [
         "38",
         "3010454.0",
         "0",
         "0.96",
         "C",
         "5",
         "2",
         "47",
         "50",
         "B12",
         "Regular",
         "321",
         "R11",
         "False"
        ],
        [
         "39",
         "4118769.0",
         "0",
         "0.9",
         "B",
         "6",
         "8",
         "24",
         "95",
         "B1",
         "Regular",
         "58",
         "R24",
         "False"
        ],
        [
         "40",
         "4048381.0",
         "0",
         "0.17",
         "D",
         "8",
         "0",
         "45",
         "72",
         "B12",
         "Regular",
         "1425",
         "R41",
         "False"
        ],
        [
         "41",
         "1140222.0",
         "0",
         "0.18",
         "C",
         "5",
         "2",
         "39",
         "50",
         "B2",
         "Diesel",
         "354",
         "R52",
         "False"
        ],
        [
         "42",
         "4130560.0",
         "0",
         "1.0",
         "D",
         "5",
         "5",
         "40",
         "50",
         "B4",
         "Diesel",
         "1501",
         "R41",
         "False"
        ],
        [
         "43",
         "170643.0",
         "0",
         "0.55",
         "D",
         "5",
         "22",
         "29",
         "60",
         "B1",
         "Regular",
         "881",
         "R54",
         "False"
        ],
        [
         "44",
         "2143938.0",
         "0",
         "1.0",
         "C",
         "6",
         "1",
         "42",
         "50",
         "B1",
         "Regular",
         "238",
         "R54",
         "False"
        ],
        [
         "45",
         "2006526.0",
         "0",
         "0.16",
         "E",
         "4",
         "5",
         "36",
         "95",
         "B1",
         "Regular",
         "4762",
         "R93",
         "False"
        ],
        [
         "46",
         "4032093.0",
         "0",
         "0.49",
         "D",
         "10",
         "6",
         "44",
         "50",
         "B12",
         "Regular",
         "824",
         "R91",
         "False"
        ],
        [
         "47",
         "2048179.0",
         "0",
         "1.0",
         "A",
         "6",
         "7",
         "73",
         "50",
         "B2",
         "Regular",
         "37",
         "R53",
         "False"
        ],
        [
         "48",
         "74547.0",
         "0",
         "0.31",
         "D",
         "5",
         "13",
         "23",
         "90",
         "B2",
         "Diesel",
         "1397",
         "R41",
         "False"
        ],
        [
         "49",
         "1161666.0",
         "0",
         "0.25",
         "D",
         "5",
         "6",
         "33",
         "72",
         "B5",
         "Diesel",
         "912",
         "R82",
         "False"
        ]
       ],
       "shape": {
        "columns": 13,
        "rows": 135603
       }
      },
      "text/html": [
       "<div>\n",
       "<style scoped>\n",
       "    .dataframe tbody tr th:only-of-type {\n",
       "        vertical-align: middle;\n",
       "    }\n",
       "\n",
       "    .dataframe tbody tr th {\n",
       "        vertical-align: top;\n",
       "    }\n",
       "\n",
       "    .dataframe thead th {\n",
       "        text-align: right;\n",
       "    }\n",
       "</style>\n",
       "<table border=\"1\" class=\"dataframe\">\n",
       "  <thead>\n",
       "    <tr style=\"text-align: right;\">\n",
       "      <th></th>\n",
       "      <th>IDpol</th>\n",
       "      <th>ClaimNb</th>\n",
       "      <th>Exposure</th>\n",
       "      <th>Area</th>\n",
       "      <th>VehPower</th>\n",
       "      <th>VehAge</th>\n",
       "      <th>DrivAge</th>\n",
       "      <th>BonusMalus</th>\n",
       "      <th>VehBrand</th>\n",
       "      <th>VehGas</th>\n",
       "      <th>Density</th>\n",
       "      <th>Region</th>\n",
       "      <th>ClaimInd</th>\n",
       "    </tr>\n",
       "  </thead>\n",
       "  <tbody>\n",
       "    <tr>\n",
       "      <th>0</th>\n",
       "      <td>6110071.0</td>\n",
       "      <td>0</td>\n",
       "      <td>0.74</td>\n",
       "      <td>E</td>\n",
       "      <td>5</td>\n",
       "      <td>0</td>\n",
       "      <td>25</td>\n",
       "      <td>90</td>\n",
       "      <td>B12</td>\n",
       "      <td>Diesel</td>\n",
       "      <td>3564</td>\n",
       "      <td>R11</td>\n",
       "      <td>False</td>\n",
       "    </tr>\n",
       "    <tr>\n",
       "      <th>1</th>\n",
       "      <td>2190463.0</td>\n",
       "      <td>0</td>\n",
       "      <td>0.53</td>\n",
       "      <td>E</td>\n",
       "      <td>6</td>\n",
       "      <td>10</td>\n",
       "      <td>65</td>\n",
       "      <td>50</td>\n",
       "      <td>B2</td>\n",
       "      <td>Diesel</td>\n",
       "      <td>2278</td>\n",
       "      <td>R91</td>\n",
       "      <td>False</td>\n",
       "    </tr>\n",
       "    <tr>\n",
       "      <th>2</th>\n",
       "      <td>4025340.0</td>\n",
       "      <td>0</td>\n",
       "      <td>0.06</td>\n",
       "      <td>C</td>\n",
       "      <td>8</td>\n",
       "      <td>1</td>\n",
       "      <td>54</td>\n",
       "      <td>50</td>\n",
       "      <td>B12</td>\n",
       "      <td>Diesel</td>\n",
       "      <td>157</td>\n",
       "      <td>R83</td>\n",
       "      <td>False</td>\n",
       "    </tr>\n",
       "    <tr>\n",
       "      <th>3</th>\n",
       "      <td>3164830.0</td>\n",
       "      <td>0</td>\n",
       "      <td>1.00</td>\n",
       "      <td>A</td>\n",
       "      <td>6</td>\n",
       "      <td>2</td>\n",
       "      <td>85</td>\n",
       "      <td>50</td>\n",
       "      <td>B1</td>\n",
       "      <td>Regular</td>\n",
       "      <td>11</td>\n",
       "      <td>R24</td>\n",
       "      <td>False</td>\n",
       "    </tr>\n",
       "    <tr>\n",
       "      <th>4</th>\n",
       "      <td>2038146.0</td>\n",
       "      <td>0</td>\n",
       "      <td>0.02</td>\n",
       "      <td>A</td>\n",
       "      <td>6</td>\n",
       "      <td>3</td>\n",
       "      <td>53</td>\n",
       "      <td>50</td>\n",
       "      <td>B12</td>\n",
       "      <td>Diesel</td>\n",
       "      <td>40</td>\n",
       "      <td>R93</td>\n",
       "      <td>False</td>\n",
       "    </tr>\n",
       "    <tr>\n",
       "      <th>...</th>\n",
       "      <td>...</td>\n",
       "      <td>...</td>\n",
       "      <td>...</td>\n",
       "      <td>...</td>\n",
       "      <td>...</td>\n",
       "      <td>...</td>\n",
       "      <td>...</td>\n",
       "      <td>...</td>\n",
       "      <td>...</td>\n",
       "      <td>...</td>\n",
       "      <td>...</td>\n",
       "      <td>...</td>\n",
       "      <td>...</td>\n",
       "    </tr>\n",
       "    <tr>\n",
       "      <th>135598</th>\n",
       "      <td>5001055.0</td>\n",
       "      <td>2</td>\n",
       "      <td>0.12</td>\n",
       "      <td>D</td>\n",
       "      <td>5</td>\n",
       "      <td>1</td>\n",
       "      <td>81</td>\n",
       "      <td>50</td>\n",
       "      <td>B12</td>\n",
       "      <td>Regular</td>\n",
       "      <td>517</td>\n",
       "      <td>R91</td>\n",
       "      <td>True</td>\n",
       "    </tr>\n",
       "    <tr>\n",
       "      <th>135599</th>\n",
       "      <td>4114727.0</td>\n",
       "      <td>0</td>\n",
       "      <td>1.00</td>\n",
       "      <td>A</td>\n",
       "      <td>6</td>\n",
       "      <td>11</td>\n",
       "      <td>53</td>\n",
       "      <td>50</td>\n",
       "      <td>B1</td>\n",
       "      <td>Diesel</td>\n",
       "      <td>28</td>\n",
       "      <td>R83</td>\n",
       "      <td>False</td>\n",
       "    </tr>\n",
       "    <tr>\n",
       "      <th>135600</th>\n",
       "      <td>4186419.0</td>\n",
       "      <td>0</td>\n",
       "      <td>0.17</td>\n",
       "      <td>E</td>\n",
       "      <td>7</td>\n",
       "      <td>12</td>\n",
       "      <td>42</td>\n",
       "      <td>50</td>\n",
       "      <td>B11</td>\n",
       "      <td>Diesel</td>\n",
       "      <td>4116</td>\n",
       "      <td>R24</td>\n",
       "      <td>False</td>\n",
       "    </tr>\n",
       "    <tr>\n",
       "      <th>135601</th>\n",
       "      <td>1155305.0</td>\n",
       "      <td>0</td>\n",
       "      <td>0.71</td>\n",
       "      <td>C</td>\n",
       "      <td>7</td>\n",
       "      <td>8</td>\n",
       "      <td>32</td>\n",
       "      <td>57</td>\n",
       "      <td>B5</td>\n",
       "      <td>Diesel</td>\n",
       "      <td>220</td>\n",
       "      <td>R53</td>\n",
       "      <td>False</td>\n",
       "    </tr>\n",
       "    <tr>\n",
       "      <th>135602</th>\n",
       "      <td>2001916.0</td>\n",
       "      <td>0</td>\n",
       "      <td>0.80</td>\n",
       "      <td>D</td>\n",
       "      <td>7</td>\n",
       "      <td>2</td>\n",
       "      <td>64</td>\n",
       "      <td>69</td>\n",
       "      <td>B12</td>\n",
       "      <td>Diesel</td>\n",
       "      <td>563</td>\n",
       "      <td>R52</td>\n",
       "      <td>False</td>\n",
       "    </tr>\n",
       "  </tbody>\n",
       "</table>\n",
       "<p>135603 rows × 13 columns</p>\n",
       "</div>"
      ],
      "text/plain": [
       "            IDpol  ClaimNb  Exposure Area  VehPower  VehAge  DrivAge  \\\n",
       "0       6110071.0        0      0.74    E         5       0       25   \n",
       "1       2190463.0        0      0.53    E         6      10       65   \n",
       "2       4025340.0        0      0.06    C         8       1       54   \n",
       "3       3164830.0        0      1.00    A         6       2       85   \n",
       "4       2038146.0        0      0.02    A         6       3       53   \n",
       "...           ...      ...       ...  ...       ...     ...      ...   \n",
       "135598  5001055.0        2      0.12    D         5       1       81   \n",
       "135599  4114727.0        0      1.00    A         6      11       53   \n",
       "135600  4186419.0        0      0.17    E         7      12       42   \n",
       "135601  1155305.0        0      0.71    C         7       8       32   \n",
       "135602  2001916.0        0      0.80    D         7       2       64   \n",
       "\n",
       "        BonusMalus VehBrand   VehGas  Density Region  ClaimInd  \n",
       "0               90      B12   Diesel     3564    R11     False  \n",
       "1               50       B2   Diesel     2278    R91     False  \n",
       "2               50      B12   Diesel      157    R83     False  \n",
       "3               50       B1  Regular       11    R24     False  \n",
       "4               50      B12   Diesel       40    R93     False  \n",
       "...            ...      ...      ...      ...    ...       ...  \n",
       "135598          50      B12  Regular      517    R91      True  \n",
       "135599          50       B1   Diesel       28    R83     False  \n",
       "135600          50      B11   Diesel     4116    R24     False  \n",
       "135601          57       B5   Diesel      220    R53     False  \n",
       "135602          69      B12   Diesel      563    R52     False  \n",
       "\n",
       "[135603 rows x 13 columns]"
      ]
     },
     "execution_count": 151,
     "metadata": {},
     "output_type": "execute_result"
    }
   ],
   "source": [
    "X_test"
   ]
  },
  {
   "cell_type": "code",
   "execution_count": 135,
   "id": "039fac07",
   "metadata": {},
   "outputs": [
    {
     "data": {
      "application/vnd.microsoft.datawrangler.viewer.v0+json": {
       "columns": [
        {
         "name": "index",
         "rawType": "int64",
         "type": "integer"
        },
        {
         "name": "Frequency",
         "rawType": "float64",
         "type": "float"
        }
       ],
       "ref": "8851af43-3104-44ab-82b0-ab86c44de102",
       "rows": [
        [
         "673753",
         "0.0"
        ],
        [
         "289208",
         "0.0"
        ],
        [
         "499438",
         "0.0"
        ],
        [
         "440941",
         "0.0"
        ],
        [
         "216301",
         "0.0"
        ],
        [
         "235921",
         "0.0"
        ],
        [
         "314524",
         "0.0"
        ],
        [
         "339023",
         "0.0"
        ],
        [
         "18629",
         "0.0"
        ],
        [
         "43034",
         "0.0"
        ],
        [
         "454304",
         "0.0"
        ],
        [
         "316084",
         "0.0"
        ],
        [
         "560321",
         "0.0"
        ],
        [
         "248508",
         "0.0"
        ],
        [
         "623842",
         "0.0"
        ],
        [
         "544056",
         "0.0"
        ],
        [
         "500277",
         "0.0"
        ],
        [
         "161726",
         "0.0"
        ],
        [
         "265692",
         "0.0"
        ],
        [
         "140312",
         "0.0"
        ],
        [
         "395888",
         "0.0"
        ],
        [
         "139020",
         "0.0"
        ],
        [
         "505892",
         "0.0"
        ],
        [
         "421695",
         "0.0"
        ],
        [
         "564981",
         "0.0"
        ],
        [
         "62462",
         "0.0"
        ],
        [
         "81648",
         "0.0"
        ],
        [
         "380358",
         "0.0"
        ],
        [
         "513694",
         "0.0"
        ],
        [
         "62140",
         "0.0"
        ],
        [
         "668542",
         "0.0"
        ],
        [
         "127682",
         "0.0"
        ],
        [
         "150664",
         "0.0"
        ],
        [
         "59171",
         "0.0"
        ],
        [
         "386404",
         "0.0"
        ],
        [
         "354464",
         "0.0"
        ],
        [
         "528401",
         "0.0"
        ],
        [
         "387704",
         "0.0"
        ],
        [
         "361475",
         "0.0"
        ],
        [
         "527591",
         "0.0"
        ],
        [
         "509255",
         "0.0"
        ],
        [
         "161539",
         "0.0"
        ],
        [
         "539382",
         "0.0"
        ],
        [
         "82527",
         "0.0"
        ],
        [
         "271771",
         "0.0"
        ],
        [
         "202536",
         "0.0"
        ],
        [
         "502242",
         "0.0"
        ],
        [
         "219272",
         "0.0"
        ],
        [
         "36696",
         "0.0"
        ],
        [
         "171182",
         "0.0"
        ]
       ],
       "shape": {
        "columns": 1,
        "rows": 135603
       }
      },
      "text/plain": [
       "673753     0.000000\n",
       "289208     0.000000\n",
       "499438     0.000000\n",
       "440941     0.000000\n",
       "216301     0.000000\n",
       "            ...    \n",
       "598385    16.666667\n",
       "523549     0.000000\n",
       "595241     0.000000\n",
       "168330     0.000000\n",
       "200075     0.000000\n",
       "Name: Frequency, Length: 135603, dtype: float64"
      ]
     },
     "execution_count": 135,
     "metadata": {},
     "output_type": "execute_result"
    }
   ],
   "source": [
    "y_test"
   ]
  },
  {
   "cell_type": "code",
   "execution_count": 136,
   "id": "2f6b1283",
   "metadata": {},
   "outputs": [],
   "source": [
    "freq = np.array([np.array(y_test)]).T"
   ]
  },
  {
   "cell_type": "code",
   "execution_count": 137,
   "id": "0a360363",
   "metadata": {},
   "outputs": [],
   "source": [
    "red_X = np.hstack((X_test, freq))"
   ]
  },
  {
   "cell_type": "code",
   "execution_count": 138,
   "id": "715e5648",
   "metadata": {},
   "outputs": [
    {
     "data": {
      "text/plain": [
       "array([[6110071.0, 0, 0.74, ..., 'R11', False, 0.0],\n",
       "       [2190463.0, 0, 0.53, ..., 'R91', False, 0.0],\n",
       "       [4025340.0, 0, 0.06, ..., 'R83', False, 0.0],\n",
       "       ...,\n",
       "       [4186419.0, 0, 0.17, ..., 'R24', False, 0.0],\n",
       "       [1155305.0, 0, 0.71, ..., 'R53', False, 0.0],\n",
       "       [2001916.0, 0, 0.8, ..., 'R52', False, 0.0]],\n",
       "      shape=(135603, 14), dtype=object)"
      ]
     },
     "execution_count": 138,
     "metadata": {},
     "output_type": "execute_result"
    }
   ],
   "source": [
    "red_X"
   ]
  },
  {
   "cell_type": "markdown",
   "id": "ac45650d",
   "metadata": {},
   "source": [
    "### Create adequate data frame and scale then split"
   ]
  },
  {
   "cell_type": "code",
   "execution_count": 139,
   "id": "9aab5c04",
   "metadata": {},
   "outputs": [],
   "source": [
    "new_Xred = pd.DataFrame(red_X, columns=['IDpol', 'ClaimNb', 'Exposure','Area','VehPower','VehAge','DrvAge','BonusMalus','VehBrand','VehGas','Density','Region','ClaimInd','Frequency'])"
   ]
  },
  {
   "cell_type": "code",
   "execution_count": 140,
   "id": "93fdfa2c",
   "metadata": {},
   "outputs": [],
   "source": [
    "X = new_Xred.drop([\"IDpol\", \"ClaimNb\", \"Exposure\", \"Frequency\", \"ClaimInd\"], axis = 1)"
   ]
  },
  {
   "cell_type": "code",
   "execution_count": 141,
   "id": "39ba3bef",
   "metadata": {},
   "outputs": [],
   "source": [
    "X = pd.get_dummies(X, columns=['VehGas'])\n",
    "X = pd.get_dummies(X, columns=['Area'])\n",
    "X = pd.get_dummies(X, columns=['VehBrand'])\n",
    "X = pd.get_dummies(X, columns=['Region'])"
   ]
  },
  {
   "cell_type": "code",
   "execution_count": 142,
   "id": "9b0ef446",
   "metadata": {},
   "outputs": [
    {
     "data": {
      "text/plain": [
       "array([[-0.70999962, -1.23750101, -1.45375535, ..., -0.23698932,\n",
       "        -0.36527425, -0.08123525],\n",
       "       [-0.22271306,  0.52469905,  1.3820728 , ...,  4.21959952,\n",
       "        -0.36527425, -0.08123525],\n",
       "       [ 0.75186006, -1.061281  ,  0.60222006, ..., -0.23698932,\n",
       "        -0.36527425, -0.08123525],\n",
       "       ...,\n",
       "       [ 0.2645735 ,  0.87713907, -0.24852838, ..., -0.23698932,\n",
       "        -0.36527425, -0.08123525],\n",
       "       [ 0.2645735 ,  0.17225904, -0.95748542, ..., -0.23698932,\n",
       "        -0.36527425, -0.08123525],\n",
       "       [ 0.2645735 , -0.88506099,  1.3111771 , ..., -0.23698932,\n",
       "        -0.36527425, -0.08123525]], shape=(135603, 46))"
      ]
     },
     "execution_count": 142,
     "metadata": {},
     "output_type": "execute_result"
    }
   ],
   "source": [
    "scaler = StandardScaler()\n",
    "X_scaled = scaler.fit_transform(X)\n",
    "X_scaled"
   ]
  },
  {
   "cell_type": "code",
   "execution_count": 143,
   "id": "a8e7b2f5",
   "metadata": {},
   "outputs": [],
   "source": [
    "from sklearn.model_selection import train_test_split\n",
    "X_trainr, X_testr, y_trainr, y_testr = train_test_split(X_scaled, y_test, test_size=0.2, stratify = new_Xred[\"ClaimInd\"], random_state=42)"
   ]
  },
  {
   "cell_type": "markdown",
   "id": "b900d9b9",
   "metadata": {},
   "source": [
    "### Train the same NN to predict frequency"
   ]
  },
  {
   "cell_type": "code",
   "execution_count": null,
   "id": "e37ead6d",
   "metadata": {},
   "outputs": [
    {
     "name": "stdout",
     "output_type": "stream",
     "text": [
      "Epoch 1/15\n",
      "\u001b[1m679/679\u001b[0m \u001b[32m━━━━━━━━━━━━━━━━━━━━\u001b[0m\u001b[37m\u001b[0m \u001b[1m1s\u001b[0m 799us/step - loss: 13.7244 - mae: 0.4835 - val_loss: 6.8474 - val_mae: 0.4195\n",
      "Epoch 2/15\n",
      "\u001b[1m679/679\u001b[0m \u001b[32m━━━━━━━━━━━━━━━━━━━━\u001b[0m\u001b[37m\u001b[0m \u001b[1m1s\u001b[0m 717us/step - loss: 13.6686 - mae: 0.4731 - val_loss: 6.8556 - val_mae: 0.4158\n",
      "Epoch 3/15\n",
      "\u001b[1m679/679\u001b[0m \u001b[32m━━━━━━━━━━━━━━━━━━━━\u001b[0m\u001b[37m\u001b[0m \u001b[1m1s\u001b[0m 728us/step - loss: 13.6467 - mae: 0.4755 - val_loss: 6.8477 - val_mae: 0.4084\n",
      "Epoch 4/15\n",
      "\u001b[1m679/679\u001b[0m \u001b[32m━━━━━━━━━━━━━━━━━━━━\u001b[0m\u001b[37m\u001b[0m \u001b[1m0s\u001b[0m 717us/step - loss: 13.6309 - mae: 0.4737 - val_loss: 6.8542 - val_mae: 0.4222\n",
      "Epoch 5/15\n",
      "\u001b[1m679/679\u001b[0m \u001b[32m━━━━━━━━━━━━━━━━━━━━\u001b[0m\u001b[37m\u001b[0m \u001b[1m1s\u001b[0m 720us/step - loss: 13.6145 - mae: 0.4774 - val_loss: 6.8570 - val_mae: 0.4120\n",
      "Epoch 6/15\n",
      "\u001b[1m679/679\u001b[0m \u001b[32m━━━━━━━━━━━━━━━━━━━━\u001b[0m\u001b[37m\u001b[0m \u001b[1m1s\u001b[0m 728us/step - loss: 13.5976 - mae: 0.4774 - val_loss: 6.8567 - val_mae: 0.4077\n",
      "Epoch 7/15\n",
      "\u001b[1m679/679\u001b[0m \u001b[32m━━━━━━━━━━━━━━━━━━━━\u001b[0m\u001b[37m\u001b[0m \u001b[1m0s\u001b[0m 712us/step - loss: 13.5765 - mae: 0.4775 - val_loss: 6.8658 - val_mae: 0.4154\n",
      "Epoch 8/15\n",
      "\u001b[1m679/679\u001b[0m \u001b[32m━━━━━━━━━━━━━━━━━━━━\u001b[0m\u001b[37m\u001b[0m \u001b[1m1s\u001b[0m 727us/step - loss: 13.5680 - mae: 0.4804 - val_loss: 6.8690 - val_mae: 0.4164\n",
      "Epoch 9/15\n",
      "\u001b[1m679/679\u001b[0m \u001b[32m━━━━━━━━━━━━━━━━━━━━\u001b[0m\u001b[37m\u001b[0m \u001b[1m0s\u001b[0m 711us/step - loss: 13.5465 - mae: 0.4807 - val_loss: 6.8772 - val_mae: 0.4213\n",
      "Epoch 10/15\n",
      "\u001b[1m679/679\u001b[0m \u001b[32m━━━━━━━━━━━━━━━━━━━━\u001b[0m\u001b[37m\u001b[0m \u001b[1m0s\u001b[0m 709us/step - loss: 13.5305 - mae: 0.4832 - val_loss: 6.8776 - val_mae: 0.4141\n",
      "Epoch 11/15\n",
      "\u001b[1m679/679\u001b[0m \u001b[32m━━━━━━━━━━━━━━━━━━━━\u001b[0m\u001b[37m\u001b[0m \u001b[1m0s\u001b[0m 707us/step - loss: 13.5001 - mae: 0.4818 - val_loss: 6.8903 - val_mae: 0.4255\n",
      "Epoch 12/15\n",
      "\u001b[1m679/679\u001b[0m \u001b[32m━━━━━━━━━━━━━━━━━━━━\u001b[0m\u001b[37m\u001b[0m \u001b[1m1s\u001b[0m 721us/step - loss: 13.4788 - mae: 0.4863 - val_loss: 6.8933 - val_mae: 0.4228\n",
      "Epoch 13/15\n",
      "\u001b[1m679/679\u001b[0m \u001b[32m━━━━━━━━━━━━━━━━━━━━\u001b[0m\u001b[37m\u001b[0m \u001b[1m0s\u001b[0m 714us/step - loss: 13.4574 - mae: 0.4847 - val_loss: 6.9038 - val_mae: 0.4233\n",
      "Epoch 14/15\n",
      "\u001b[1m679/679\u001b[0m \u001b[32m━━━━━━━━━━━━━━━━━━━━\u001b[0m\u001b[37m\u001b[0m \u001b[1m0s\u001b[0m 713us/step - loss: 13.4247 - mae: 0.4871 - val_loss: 6.9201 - val_mae: 0.4264\n",
      "Epoch 15/15\n",
      "\u001b[1m679/679\u001b[0m \u001b[32m━━━━━━━━━━━━━━━━━━━━\u001b[0m\u001b[37m\u001b[0m \u001b[1m1s\u001b[0m 716us/step - loss: 13.3891 - mae: 0.4871 - val_loss: 6.9302 - val_mae: 0.4294\n"
     ]
    }
   ],
   "source": [
    "modelr = keras.Sequential([\n",
    "    layers.Dense(64, activation='relu'),\n",
    "    layers.Dense(32, activation='relu'),\n",
    "    layers.Dense(1) \n",
    "])\n",
    "modelr.compile(optimizer='adam',\n",
    "              loss='mse',\n",
    "              metrics=['mae'])\n",
    "modelr_history = modelr.fit(\n",
    "    X_trainr, y_trainr,\n",
    "    epochs=15,\n",
    "    batch_size=128,\n",
    "    validation_split=0.2)"
   ]
  },
  {
   "cell_type": "code",
   "execution_count": 219,
   "id": "d1d14c66",
   "metadata": {},
   "outputs": [
    {
     "data": {
      "image/png": "[encoded data removed]",
      "text/plain": [
       "<Figure size 640x480 with 1 Axes>"
      ]
     },
     "metadata": {},
     "output_type": "display_data"
    }
   ],
   "source": [
    "plt.plot(modelr_history.history['val_loss'])\n",
    "plt.title('Loss in Raw Feature Model')\n",
    "plt.xlabel('Epochs')\n",
    "plt.ylabel('Validation Loss')\n",
    "plt.show()"
   ]
  },
  {
   "cell_type": "markdown",
   "id": "ac741d9f",
   "metadata": {},
   "source": [
    "Evidence of overfitting"
   ]
  },
  {
   "cell_type": "code",
   "execution_count": 220,
   "id": "c71820bb",
   "metadata": {},
   "outputs": [
    {
     "name": "stdout",
     "output_type": "stream",
     "text": [
      "\u001b[1m848/848\u001b[0m \u001b[32m━━━━━━━━━━━━━━━━━━━━\u001b[0m\u001b[37m\u001b[0m \u001b[1m0s\u001b[0m 345us/step\n"
     ]
    }
   ],
   "source": [
    "y_predr = modelr.predict(X_testr)"
   ]
  },
  {
   "cell_type": "code",
   "execution_count": 221,
   "id": "0701ed15",
   "metadata": {},
   "outputs": [],
   "source": [
    "y_testr = y_testr.reset_index(drop=True)"
   ]
  },
  {
   "cell_type": "code",
   "execution_count": 222,
   "id": "3bb57d05",
   "metadata": {},
   "outputs": [
    {
     "name": "stdout",
     "output_type": "stream",
     "text": [
      "\u001b[1m848/848\u001b[0m \u001b[32m━━━━━━━━━━━━━━━━━━━━\u001b[0m\u001b[37m\u001b[0m \u001b[1m0s\u001b[0m 510us/step - loss: 36.6783 - mae: 0.4920\n",
      "Test MAE: 0.4919836223125458\n",
      "\u001b[1m848/848\u001b[0m \u001b[32m━━━━━━━━━━━━━━━━━━━━\u001b[0m\u001b[37m\u001b[0m \u001b[1m0s\u001b[0m 324us/step\n"
     ]
    }
   ],
   "source": [
    "loss, mae = modelr.evaluate(X_testr, y_testr)\n",
    "print(f\"Test MAE: {mae}\")\n",
    "\n",
    "predictions = modelr.predict(X_testr)"
   ]
  },
  {
   "cell_type": "markdown",
   "id": "6d5eca8b",
   "metadata": {},
   "source": [
    "#### Parameter count"
   ]
  },
  {
   "cell_type": "code",
   "execution_count": 223,
   "id": "73c5a329",
   "metadata": {},
   "outputs": [
    {
     "data": {
      "text/plain": [
       "5121"
      ]
     },
     "execution_count": 223,
     "metadata": {},
     "output_type": "execute_result"
    }
   ],
   "source": [
    "modelr.count_params()"
   ]
  },
  {
   "cell_type": "code",
   "execution_count": 224,
   "id": "1427ee9a",
   "metadata": {},
   "outputs": [
    {
     "data": {
      "text/plain": [
       "3009"
      ]
     },
     "execution_count": 224,
     "metadata": {},
     "output_type": "execute_result"
    }
   ],
   "source": [
    "model.count_params()"
   ]
  }
 ],
 "metadata": {
  "kernelspec": {
   "display_name": ".venv",
   "language": "python",
   "name": "python3"
  },
  "language_info": {
   "codemirror_mode": {
    "name": "ipython",
    "version": 3
   },
   "file_extension": ".py",
   "mimetype": "text/x-python",
   "name": "python",
   "nbconvert_exporter": "python",
   "pygments_lexer": "ipython3",
   "version": "3.12.1"
  }
 },
 "nbformat": 4,
 "nbformat_minor": 5
}
